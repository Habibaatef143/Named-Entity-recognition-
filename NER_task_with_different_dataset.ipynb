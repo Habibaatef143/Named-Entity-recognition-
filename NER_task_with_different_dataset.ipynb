{
  "cells": [
    {
      "cell_type": "markdown",
      "metadata": {
        "id": "view-in-github",
        "colab_type": "text"
      },
      "source": [
        "<a href=\"https://colab.research.google.com/github/Habibaatef143/Named-Entity-recognition-/blob/main/NER_task_with_different_dataset.ipynb\" target=\"_parent\"><img src=\"https://colab.research.google.com/assets/colab-badge.svg\" alt=\"Open In Colab\"/></a>"
      ]
    },
    {
      "cell_type": "markdown",
      "source": [
        "# install data & transformers"
      ],
      "metadata": {
        "id": "Kr48YEKaqy7G"
      }
    },
    {
      "cell_type": "code",
      "execution_count": null,
      "metadata": {
        "id": "Z91r4OSfa85D"
      },
      "outputs": [],
      "source": [
        "!pip install transformers datasets tokenizers seqeval -q"
      ]
    },
    {
      "cell_type": "code",
      "execution_count": null,
      "metadata": {
        "id": "vvu7nyufa_x6"
      },
      "outputs": [],
      "source": [
        "import pandas as pd\n",
        "import numpy as np\n",
        "from tqdm import tqdm, trange\n",
        "import csv\n",
        "import matplotlib.pyplot as plt\n",
        "%matplotlib inline\n",
        "import seaborn as sns\n",
        "import statistics\n",
        "\n",
        "import torch\n",
        "from torch.utils.data import TensorDataset, DataLoader, RandomSampler, SequentialSampler\n",
        "from transformers import BertTokenizer, BertConfig,BertTokenizerFast\n",
        "import datasets\n",
        "from datasets import load_dataset\n",
        "from keras.preprocessing.sequence import pad_sequences\n",
        "from sklearn.model_selection import train_test_split\n",
        "from sklearn.metrics import precision_score, recall_score, f1_score, classification_report\n",
        "from transformers import  pipeline, AutoTokenizer, AutoModelForTokenClassification\n",
        "from transformers import TrainingArguments, Trainer\n",
        "from transformers import DataCollatorForTokenClassification\n",
        "from transformers import XLMRobertaConfig\n",
        "from transformers.modeling_outputs import TokenClassifierOutput\n",
        "\n",
        "import transformers\n",
        "from transformers import BertForTokenClassification, AdamW\n",
        "from transformers import get_linear_schedule_with_warmup\n",
        "\n",
        "from seqeval.metrics import f1_score, accuracy_score\n"
      ]
    },
    {
      "cell_type": "markdown",
      "source": [
        "# load data"
      ],
      "metadata": {
        "id": "wSoUlWMaqy1y"
      }
    },
    {
      "cell_type": "code",
      "execution_count": null,
      "metadata": {
        "colab": {
          "base_uri": "https://localhost:8080/"
        },
        "id": "2QzixupdbLEO",
        "outputId": "ed307737-469b-4eeb-92ed-0227f30d1813"
      },
      "outputs": [
        {
          "output_type": "stream",
          "name": "stderr",
          "text": [
            "/usr/local/lib/python3.10/dist-packages/huggingface_hub/utils/_token.py:89: UserWarning: \n",
            "The secret `HF_TOKEN` does not exist in your Colab secrets.\n",
            "To authenticate with the Hugging Face Hub, create a token in your settings tab (https://huggingface.co/settings/tokens), set it as secret in your Google Colab and restart your session.\n",
            "You will be able to reuse this secret in all of your notebooks.\n",
            "Please note that authentication is recommended but still optional to access public models or datasets.\n",
            "  warnings.warn(\n"
          ]
        },
        {
          "output_type": "stream",
          "name": "stdout",
          "text": [
            "{'bibcode': '2019MNRAS.486.5558S', 'label_studio_id': 487, 'ner_ids': [62, 62, 62, 62, 62, 62, 62, 15, 62, 62, 62, 62, 62, 62, 62, 62, 62, 62, 62, 62, 62, 62, 62, 62, 62, 62, 62, 62, 62, 62, 62, 62, 62, 62, 62, 62, 62, 62, 62, 62, 62, 62, 62, 62, 62, 62, 62, 62, 62, 62, 62, 62, 62, 62, 17, 62, 62, 62, 62, 62, 62, 62, 62, 62, 62, 62, 62, 62, 62, 62, 62, 62, 62, 62, 15, 62, 4, 35, 35, 35, 35, 35, 62, 62, 62, 62, 4, 35, 35, 35, 35, 35, 35, 62, 4, 35, 35, 35, 35, 35, 35, 62, 62, 62, 62, 62, 62, 62, 62, 62, 62, 62, 62, 62, 62, 15, 62, 62, 62, 62, 62, 62, 62, 62, 62, 62, 62, 62, 62, 62, 17, 15, 27, 62, 30, 61, 62, 62, 30, 61, 62, 62, 62, 4, 35, 35, 35, 35, 35, 35, 4, 35, 35, 35, 35, 35, 35, 62, 4, 35, 35, 35, 35, 35, 62, 62, 62, 17, 62, 15, 62, 62, 62, 62, 62, 62, 62, 62, 62, 62, 62, 62, 62, 62, 62, 62, 62, 62, 62, 62, 62, 62, 62, 62, 62, 62, 62, 62, 62, 62, 62, 62, 62, 62, 62, 62, 62, 62, 62, 62, 62, 62, 62, 62, 62, 62, 62, 62, 62, 62, 62, 62, 62, 62, 62, 62, 62, 62, 62, 62, 62, 62, 62, 62, 62, 62, 4, 35, 35, 35, 35, 35, 62, 4, 35, 35, 35, 35, 62, 62, 62, 62, 62, 62, 62, 62, 62, 62, 62, 62, 62, 62, 4, 35, 35, 62, 62, 62, 62, 62, 62, 62, 62, 62, 62, 62, 62, 62, 62, 62, 62, 62, 62, 62, 62, 62, 62, 62, 62, 62, 62, 62, 62, 62, 62, 62, 62, 62, 62, 62, 62, 62, 62, 62, 62, 62, 62, 62, 62, 62, 62, 62, 18, 49, 4, 35, 62, 4, 35, 62, 62, 62, 62, 24, 62, 24, 55, 62, 62, 24, 62, 4, 35, 35, 62, 62, 62, 62, 62, 62, 62, 62, 62, 62, 62, 4, 35, 35, 35, 35, 35, 62, 62, 62, 62, 62, 62, 62, 62, 4, 35, 35, 35, 62, 62, 15, 62, 62, 62, 62, 12, 43, 43, 43, 43, 62, 62, 62, 62, 62, 17, 62, 4, 35, 35, 35, 62, 62, 62, 62, 62, 62, 62, 62, 62, 62, 62, 62, 62, 62, 62, 62, 62, 62, 62, 62, 4, 35, 35, 35, 62, 62, 62, 62, 62, 62, 62, 62, 62, 62, 62, 62, 62, 62, 62, 62, 62, 62, 62, 62, 62, 62, 62, 62, 62, 62, 62, 62, 62, 62, 62, 62, 62, 62, 15, 62, 62, 62, 62, 62, 62, 62, 62, 12, 43, 43, 43, 62, 62, 62, 62, 62, 62, 62, 62, 62, 62, 62, 62, 62, 62, 62, 62, 62, 62, 62, 62, 62, 62, 62, 62, 62, 62, 62, 15, 62, 62, 62, 62, 62, 62, 62, 62, 62, 62, 62, 62, 62, 62, 62, 62, 62, 62, 62, 62, 62, 62, 62, 62, 62, 62, 62, 62, 62, 62, 62, 62, 62, 62, 62, 62, 62, 62, 62, 62, 62, 62, 62, 62, 62, 62, 62, 62, 62, 62, 62], 'ner_tags': ['O', 'O', 'O', 'O', 'O', 'O', 'O', 'B-Instrument', 'O', 'O', 'O', 'O', 'O', 'O', 'O', 'O', 'O', 'O', 'O', 'O', 'O', 'O', 'O', 'O', 'O', 'O', 'O', 'O', 'O', 'O', 'O', 'O', 'O', 'O', 'O', 'O', 'O', 'O', 'O', 'O', 'O', 'O', 'O', 'O', 'O', 'O', 'O', 'O', 'O', 'O', 'O', 'O', 'O', 'O', 'B-Mission', 'O', 'O', 'O', 'O', 'O', 'O', 'O', 'O', 'O', 'O', 'O', 'O', 'O', 'O', 'O', 'O', 'O', 'O', 'O', 'B-Instrument', 'O', 'B-Citation', 'I-Citation', 'I-Citation', 'I-Citation', 'I-Citation', 'I-Citation', 'O', 'O', 'O', 'O', 'B-Citation', 'I-Citation', 'I-Citation', 'I-Citation', 'I-Citation', 'I-Citation', 'I-Citation', 'O', 'B-Citation', 'I-Citation', 'I-Citation', 'I-Citation', 'I-Citation', 'I-Citation', 'I-Citation', 'O', 'O', 'O', 'O', 'O', 'O', 'O', 'O', 'O', 'O', 'O', 'O', 'O', 'O', 'B-Instrument', 'O', 'O', 'O', 'O', 'O', 'O', 'O', 'O', 'O', 'O', 'O', 'O', 'O', 'O', 'B-Mission', 'B-Instrument', 'B-Telescope', 'O', 'B-Wavelength', 'I-Wavelength', 'O', 'O', 'B-Wavelength', 'I-Wavelength', 'O', 'O', 'O', 'B-Citation', 'I-Citation', 'I-Citation', 'I-Citation', 'I-Citation', 'I-Citation', 'I-Citation', 'B-Citation', 'I-Citation', 'I-Citation', 'I-Citation', 'I-Citation', 'I-Citation', 'I-Citation', 'O', 'B-Citation', 'I-Citation', 'I-Citation', 'I-Citation', 'I-Citation', 'I-Citation', 'O', 'O', 'O', 'B-Mission', 'O', 'B-Instrument', 'O', 'O', 'O', 'O', 'O', 'O', 'O', 'O', 'O', 'O', 'O', 'O', 'O', 'O', 'O', 'O', 'O', 'O', 'O', 'O', 'O', 'O', 'O', 'O', 'O', 'O', 'O', 'O', 'O', 'O', 'O', 'O', 'O', 'O', 'O', 'O', 'O', 'O', 'O', 'O', 'O', 'O', 'O', 'O', 'O', 'O', 'O', 'O', 'O', 'O', 'O', 'O', 'O', 'O', 'O', 'O', 'O', 'O', 'O', 'O', 'O', 'O', 'O', 'O', 'O', 'O', 'B-Citation', 'I-Citation', 'I-Citation', 'I-Citation', 'I-Citation', 'I-Citation', 'O', 'B-Citation', 'I-Citation', 'I-Citation', 'I-Citation', 'I-Citation', 'O', 'O', 'O', 'O', 'O', 'O', 'O', 'O', 'O', 'O', 'O', 'O', 'O', 'O', 'B-Citation', 'I-Citation', 'I-Citation', 'O', 'O', 'O', 'O', 'O', 'O', 'O', 'O', 'O', 'O', 'O', 'O', 'O', 'O', 'O', 'O', 'O', 'O', 'O', 'O', 'O', 'O', 'O', 'O', 'O', 'O', 'O', 'O', 'O', 'O', 'O', 'O', 'O', 'O', 'O', 'O', 'O', 'O', 'O', 'O', 'O', 'O', 'O', 'O', 'O', 'O', 'O', 'B-Model', 'I-Model', 'B-Citation', 'I-Citation', 'O', 'B-Citation', 'I-Citation', 'O', 'O', 'O', 'O', 'B-Software', 'O', 'B-Software', 'I-Software', 'O', 'O', 'B-Software', 'O', 'B-Citation', 'I-Citation', 'I-Citation', 'O', 'O', 'O', 'O', 'O', 'O', 'O', 'O', 'O', 'O', 'O', 'B-Citation', 'I-Citation', 'I-Citation', 'I-Citation', 'I-Citation', 'I-Citation', 'O', 'O', 'O', 'O', 'O', 'O', 'O', 'O', 'B-Citation', 'I-Citation', 'I-Citation', 'I-Citation', 'O', 'O', 'B-Instrument', 'O', 'O', 'O', 'O', 'B-Formula', 'I-Formula', 'I-Formula', 'I-Formula', 'I-Formula', 'O', 'O', 'O', 'O', 'O', 'B-Mission', 'O', 'B-Citation', 'I-Citation', 'I-Citation', 'I-Citation', 'O', 'O', 'O', 'O', 'O', 'O', 'O', 'O', 'O', 'O', 'O', 'O', 'O', 'O', 'O', 'O', 'O', 'O', 'O', 'O', 'B-Citation', 'I-Citation', 'I-Citation', 'I-Citation', 'O', 'O', 'O', 'O', 'O', 'O', 'O', 'O', 'O', 'O', 'O', 'O', 'O', 'O', 'O', 'O', 'O', 'O', 'O', 'O', 'O', 'O', 'O', 'O', 'O', 'O', 'O', 'O', 'O', 'O', 'O', 'O', 'O', 'O', 'B-Instrument', 'O', 'O', 'O', 'O', 'O', 'O', 'O', 'O', 'B-Formula', 'I-Formula', 'I-Formula', 'I-Formula', 'O', 'O', 'O', 'O', 'O', 'O', 'O', 'O', 'O', 'O', 'O', 'O', 'O', 'O', 'O', 'O', 'O', 'O', 'O', 'O', 'O', 'O', 'O', 'O', 'O', 'O', 'O', 'B-Instrument', 'O', 'O', 'O', 'O', 'O', 'O', 'O', 'O', 'O', 'O', 'O', 'O', 'O', 'O', 'O', 'O', 'O', 'O', 'O', 'O', 'O', 'O', 'O', 'O', 'O', 'O', 'O', 'O', 'O', 'O', 'O', 'O', 'O', 'O', 'O', 'O', 'O', 'O', 'O', 'O', 'O', 'O', 'O', 'O', 'O', 'O', 'O', 'O', 'O', 'O', 'O'], 'section': 'fulltext', 'tokens': ['Whilst', 'a', 'reasonable', 'harmonic', 'fit', 'to', 'the', 'ESPaDOnS', 'data', 'can', 'be', 'achieved', 'using', 'this', 'period,', 'it', 'does', 'not', 'produce', 'an', 'acceptable', 'phasing', 'of', 'all', 'available', '〈', 'B', 'z', '〉', 'measurements.', 'Figure', '1.', 'Photometric', '(', 'top', ')', 'and', 'magnetic', '〈', 'B', 'z', '〉', '(', 'bottom', ')', 'measurements,', 'phased', 'with', 'periods', 'determined', 'from', '(left', 'to', 'right)', 'K2', 'photometry,', 'all', '〈', 'B', 'z', '〉', 'measurements,', 'and', 'all', 'photometric', 'measurements.', '〈', 'B', 'z', '〉', 'measurements', 'were', 'obtained', 'from', 'ESPaDOnS', 'by', 'Shultz', 'et', 'al.', '(', '2018', ')', 'and', 'photopolarimetric', 'data', 'by', 'Borra', 'et', 'al.', '(', '1983', ',', 'BLT83)', 'and', 'Bohlender', 'et', 'al.', '(', '1993', ',', 'BLT93).', 'The', 'solid', 'and', 'dashed', 'curves', 'show,', 'respectively,', 'the', 'best', 'second-order', 'harmonic', 'fit', 'to', 'the', 'ESPaDOnS', '〈', 'B', 'z', '〉', 'data', 'and', 'the', '1σ', 'fit', 'uncertainty.', 'Photometric', 'data', 'are', 'from', 'K2,', 'SMEI,', 'Hipparcos', '(', 'H', 'p', '),', 'and', 'Strömgren', 'y', 'photometry', 'published', 'by', 'Sterken', 'et', 'al.', '(', '1995', ',', 'S95),', 'Manfroid', 'et', 'al.', '(', '1995', ',', 'M95),', 'and', 'Pedersen', 'Thomsen', '(', '1977', ',', 'P77).', 'For', 'clarity', 'the', 'K2', 'and', 'SMEI', 'data', 'have', 'been', 'binned', 'by', 'phase,', 'using', 'bin', 'sizes', 'of', '0.01', 'cycles.', 'The', 'mean', 'magnitude', 'of', 'each', 'data', 'set', 'was', 'subtracted', 'for', 'display', 'purposes.', 'All', 'of', 'the', 'periods', 'obtained', 'since', 'the', 'year', '2000', 'are', 'approximately', 'consistent', 'with', 'one', 'another;', 'the', 'two', 'periods', 'determined', 'using', 'photometric', 'data', 'obtained', 'prior', 'to', 'the', 'year', '2000', 'are', 'also', 'consistent', 'with', 'one', 'another.', 'At', 'the', 'same', 'time,', 'the', 'difference', 'between', 'the', 'Bowman', 'et', 'al.', '(', '2018', ')', 'and', 'Catalano', 'Leone', '(', '1996', ')', 'periods,', '0.00015', 'd,', 'is', 'almost', 'eight', 'times', 'larger', 'than', 'the', 'formal', 'uncertainty', 'in', 'the', 'Bowman', 'et', 'al.', 'period', '(the', 'less', 'precise', 'of', 'the', 'two).', 'This', 'suggests', 'that', 'the', 'period', 'may', 'have', 'changed.', '3.2', 'Period', 'analysis', 'We', 'now', 'turn', 'to', 'a', 're-examination', 'of', 'the', 'period', 'analysis', 'of', 'the', 'individual', 'data', 'sets;', 'the', 'results', 'are', 'summarized', 'in', 'Table', '2', '.', 'Period', 'analysis', 'was', 'performed', 'using', 'standard', 'Lomb–Scargle', 'statistics', '(Lomb', '1976', ';', 'Scargle', '1982', '),', 'utilizing', 'both', 'the', 'idl', 'program', 'periodogram', '4', 'and', 'the', 'period04', 'package', '(Lenz', 'Breger', '2005', ').', 'The', 'uncertainties', 'were', 'determined', 'in', 'the', 'same', 'manner', 'as', 'by', 'Shultz', 'et', 'al.', '(', '2018', '),', 'i.e.', 'according', 'to', 'the', 'analytic', 'method', 'described', 'by', 'Bloomfield', '(', '1976', ').', 'Examining', 'the', 'ESPaDOnS', 'data', 'in', 'isolation', 'yields', 'P', 'rot', '=', '0.97887(6)', 'd,', 'consistent', 'within', 'uncertainty', 'with', 'the', 'K2', 'period', '(Bowman', 'et', 'al.', '2018', ').', 'The', 'period', 'determined', 'from', 'all', 'available', 'magnetic', 'data', '(i.e.', 'including', 'the', 'previously', 'overlooked', '〈', 'B', 'z', '〉', 'measurements', 'of', 'Borra', 'et', 'al.', '1983', ')', 'is', '0.979855(5)', 'd.', 'The', 'photometric', 'and', 'magnetic', 'data', 'are', 'shown', 'phased', 'with', 'this', 'period', 'in', 'the', 'middle', 'panel', 'of', 'Fig.', '1', '.', 'Phasing', '〈', 'B', 'z', '〉', 'with', 'this', 'period', 'and', 'fitting', 'the', 'ESPaDOnS', 'data', 'with', 'a', 'second-order', 'sinusoid', 'yields', 'a', 'reduced', 'χ', '2', '=', '5,', 'i.e.', 'a', 'poor', 'fit.', 'This', 'period', 'also', 'does', 'not', 'provide', 'a', 'coherent', 'phasing', 'of', 'the', 'majority', 'of', 'the', 'photometric', 'data', 'set.', 'Notably,', 'the', 'variation', 'in', 'the', 'phase-binned', 'SMEI', 'data', 'almost', 'completely', 'disappears,', 'likely', 'because', 'observations', 'are', 'being', 'binned', 'as', 'though', 'they', 'were', 'at', 'the', 'same', 'phase', 'when,', 'in', 'fact,', 'they', 'are', 'not.', 'We', 'can', 'also', 'combine', 'all', 'available', 'photometric', 'data', '(shifted', 'to', 'the', 'mean', 'magnitude', 'of', 'each', 'data', 'set,', 'as', 'in', 'Fig.', '1', '),', 'which', 'yields', 'P', 'rot', '='], 'unique_id': 'fulltext_487_2019MNRAS.486.5558S'}\n"
          ]
        }
      ],
      "source": [
        "dataset = load_dataset(\"adsabs/WIESP2022-NER\")\n",
        "# Inspect the dataset\n",
        "print(dataset[\"train\"][0])\n"
      ]
    },
    {
      "cell_type": "markdown",
      "source": [
        "# data preparation"
      ],
      "metadata": {
        "id": "SZzGt8fFrQ3w"
      }
    },
    {
      "cell_type": "code",
      "execution_count": null,
      "metadata": {
        "colab": {
          "base_uri": "https://localhost:8080/"
        },
        "id": "3NSyv7yDbjcS",
        "outputId": "c8a70078-c416-403f-d996-e91e51327ca3"
      },
      "outputs": [
        {
          "output_type": "execute_result",
          "data": {
            "text/plain": [
              "DatasetDict({\n",
              "    train: Dataset({\n",
              "        features: ['bibcode', 'label_studio_id', 'ner_ids', 'ner_tags', 'section', 'tokens', 'unique_id'],\n",
              "        num_rows: 1753\n",
              "    })\n",
              "    validation: Dataset({\n",
              "        features: ['bibcode', 'label_studio_id', 'ner_ids', 'ner_tags', 'section', 'tokens', 'unique_id'],\n",
              "        num_rows: 1366\n",
              "    })\n",
              "    test: Dataset({\n",
              "        features: ['bibcode', 'label_studio_id', 'ner_ids', 'ner_tags', 'section', 'tokens', 'unique_id'],\n",
              "        num_rows: 2505\n",
              "    })\n",
              "})"
            ]
          },
          "metadata": {},
          "execution_count": 4
        }
      ],
      "source": [
        "dataset"
      ]
    },
    {
      "cell_type": "code",
      "execution_count": null,
      "metadata": {
        "colab": {
          "base_uri": "https://localhost:8080/"
        },
        "id": "kOfkRCK_buqY",
        "outputId": "e52b8d58-d252-4a0f-f5a3-a2693ef36e8e"
      },
      "outputs": [
        {
          "output_type": "stream",
          "name": "stdout",
          "text": [
            "{'I-Collaboration', 'O', 'B-Grant', 'I-Model', 'B-Formula', 'I-Survey', 'B-Citation', 'B-Dataset', 'I-Telescope', 'B-EntityOfFutureInterest', 'I-Wavelength', 'B-Observatory', 'I-Database', 'I-Tag', 'B-Tag', 'B-Person', 'I-Fellowship', 'I-CelestialRegion', 'I-Mission', 'I-Observatory', 'I-URL', 'I-Dataset', 'B-CelestialObjectRegion', 'I-Archive', 'B-Collaboration', 'I-CelestialObjectRegion', 'B-Identifier', 'B-Software', 'B-ObservationalTechniques', 'I-EntityOfFutureInterest', 'I-CelestialObject', 'I-Software', 'I-Citation', 'B-ComputingFacility', 'B-Database', 'I-ObservationalTechniques', 'I-Grant', 'B-Location', 'B-URL', 'I-TextGarbage', 'B-Archive', 'B-Telescope', 'I-Identifier', 'I-Organization', 'B-CelestialObject', 'B-Wavelength', 'I-Event', 'I-Location', 'B-TextGarbage', 'I-Instrument', 'B-Proposal', 'I-Person', 'B-CelestialRegion', 'B-Event', 'B-Instrument', 'I-Formula', 'B-Survey', 'I-Proposal', 'B-Fellowship', 'B-Model', 'B-Mission', 'B-Organization', 'I-ComputingFacility'}\n",
            "63\n"
          ]
        }
      ],
      "source": [
        "all_labels = set()\n",
        "for example in dataset[\"train\"]:\n",
        "    all_labels.update(example[\"ner_tags\"])\n",
        "print(all_labels)\n",
        "num_labels = len(all_labels)\n",
        "print(num_labels)"
      ]
    },
    {
      "cell_type": "markdown",
      "source": [
        "# data preprocessing (Model and Tokenizer initialization)"
      ],
      "metadata": {
        "id": "IH90JynhriWR"
      }
    },
    {
      "cell_type": "code",
      "execution_count": null,
      "metadata": {
        "id": "GJdHBFHwfgxU"
      },
      "outputs": [],
      "source": [
        "label2id = {label: i for i, label in enumerate(all_labels)}\n",
        "id2label = {i: label for label, i in label2id.items()}"
      ]
    },
    {
      "cell_type": "code",
      "execution_count": null,
      "metadata": {
        "id": "uYK94PJ8flYt",
        "outputId": "e259b95c-3944-4a85-f354-068dc7057d5a",
        "colab": {
          "base_uri": "https://localhost:8080/"
        }
      },
      "outputs": [
        {
          "output_type": "stream",
          "name": "stderr",
          "text": [
            "Some weights of BertForTokenClassification were not initialized from the model checkpoint at bert-base-uncased and are newly initialized: ['classifier.bias', 'classifier.weight']\n",
            "You should probably TRAIN this model on a down-stream task to be able to use it for predictions and inference.\n"
          ]
        }
      ],
      "source": [
        "tokenizer = BertTokenizerFast.from_pretrained(\"bert-base-uncased\")\n",
        "#model = AutoModelForTokenClassification.from_pretrained(\"dslim/bert-base-NER\",num_labels=9)\n",
        "model = AutoModelForTokenClassification.from_pretrained(\"bert-base-uncased\", num_labels=num_labels,id2label=id2label, label2id=label2id)\n"
      ]
    },
    {
      "cell_type": "code",
      "execution_count": null,
      "metadata": {
        "colab": {
          "base_uri": "https://localhost:8080/"
        },
        "id": "Z7bLzVi6fr0t",
        "outputId": "c5ee2623-7aed-4ac7-f298-38ade695e0b7"
      },
      "outputs": [
        {
          "output_type": "stream",
          "name": "stderr",
          "text": [
            "Token indices sequence length is longer than the specified maximum sequence length for this model (735 > 512). Running this sequence through the model will result in indexing errors\n"
          ]
        },
        {
          "output_type": "stream",
          "name": "stdout",
          "text": [
            "['[CLS]', 'whilst', 'a', 'reasonable', 'harmonic', 'fit', 'to', 'the', 'es', '##pad', '##ons', 'data', 'can', 'be', 'achieved', 'using', 'this', 'period', ',', 'it', 'does', 'not', 'produce', 'an', 'acceptable', 'ph', '##asi', '##ng', 'of', 'all', 'available', '〈', 'b', 'z', '〉', 'measurements', '.', 'figure', '1', '.', 'photo', '##metric', '(', 'top', ')', 'and', 'magnetic', '〈', 'b', 'z', '〉', '(', 'bottom', ')', 'measurements', ',', 'phased', 'with', 'periods', 'determined', 'from', '(', 'left', 'to', 'right', ')', 'k', '##2', 'photo', '##metry', ',', 'all', '〈', 'b', 'z', '〉', 'measurements', ',', 'and', 'all', 'photo', '##metric', 'measurements', '.', '〈', 'b', 'z', '〉', 'measurements', 'were', 'obtained', 'from', 'es', '##pad', '##ons', 'by', 'shu', '##lt', '##z', 'et', 'al', '.', '(', '2018', ')', 'and', 'photo', '##pol', '##ari', '##metric', 'data', 'by', 'bo', '##rra', 'et', 'al', '.', '(', '1983', ',', 'b', '##lt', '##8', '##3', ')', 'and', 'bo', '##hl', '##end', '##er', 'et', 'al', '.', '(', '1993', ',', 'b', '##lt', '##9', '##3', ')', '.', 'the', 'solid', 'and', 'dashed', 'curves', 'show', ',', 'respectively', ',', 'the', 'best', 'second', '-', 'order', 'harmonic', 'fit', 'to', 'the', 'es', '##pad', '##ons', '〈', 'b', 'z', '〉', 'data', 'and', 'the', '1', '##σ', 'fit', 'uncertainty', '.', 'photo', '##metric', 'data', 'are', 'from', 'k', '##2', ',', 'sm', '##ei', ',', 'hip', '##par', '##cos', '(', 'h', 'p', ')', ',', 'and', 'st', '##rom', '##gren', 'y', 'photo', '##metry', 'published', 'by', 'ste', '##rke', '##n', 'et', 'al', '.', '(', '1995', ',', 's', '##9', '##5', ')', ',', 'man', '##fr', '##oid', 'et', 'al', '.', '(', '1995', ',', 'm', '##9', '##5', ')', ',', 'and', 'pedersen', 'thom', '##sen', '(', '1977', ',', 'p', '##7', '##7', ')', '.', 'for', 'clarity', 'the', 'k', '##2', 'and', 'sm', '##ei', 'data', 'have', 'been', 'bin', '##ned', 'by', 'phase', ',', 'using', 'bin', 'sizes', 'of', '0', '.', '01', 'cycles', '.', 'the', 'mean', 'magnitude', 'of', 'each', 'data', 'set', 'was', 'sub', '##tracted', 'for', 'display', 'purposes', '.', 'all', 'of', 'the', 'periods', 'obtained', 'since', 'the', 'year', '2000', 'are', 'approximately', 'consistent', 'with', 'one', 'another', ';', 'the', 'two', 'periods', 'determined', 'using', 'photo', '##metric', 'data', 'obtained', 'prior', 'to', 'the', 'year', '2000', 'are', 'also', 'consistent', 'with', 'one', 'another', '.', 'at', 'the', 'same', 'time', ',', 'the', 'difference', 'between', 'the', 'bowman', 'et', 'al', '.', '(', '2018', ')', 'and', 'catalan', '##o', 'leone', '(', '1996', ')', 'periods', ',', '0', '.', '000', '##15', 'd', ',', 'is', 'almost', 'eight', 'times', 'larger', 'than', 'the', 'formal', 'uncertainty', 'in', 'the', 'bowman', 'et', 'al', '.', 'period', '(', 'the', 'less', 'precise', 'of', 'the', 'two', ')', '.', 'this', 'suggests', 'that', 'the', 'period', 'may', 'have', 'changed', '.', '3', '.', '2', 'period', 'analysis', 'we', 'now', 'turn', 'to', 'a', 're', '-', 'examination', 'of', 'the', 'period', 'analysis', 'of', 'the', 'individual', 'data', 'sets', ';', 'the', 'results', 'are', 'summarized', 'in', 'table', '2', '.', 'period', 'analysis', 'was', 'performed', 'using', 'standard', 'lo', '##mb', '–', 'scar', '##gle', 'statistics', '(', 'lo', '##mb', '1976', ';', 'scar', '##gle', '1982', ')', ',', 'utilizing', 'both', 'the', 'id', '##l', 'program', 'period', '##og', '##ram', '4', 'and', 'the', 'period', '##0', '##4', 'package', '(', 'len', '##z', 'br', '##eger', '2005', ')', '.', 'the', 'uncertain', '##ties', 'were', 'determined', 'in', 'the', 'same', 'manner', 'as', 'by', 'shu', '##lt', '##z', 'et', 'al', '.', '(', '2018', ')', ',', 'i', '.', 'e', '.', 'according', 'to', 'the', 'analytic', 'method', 'described', 'by', 'bloomfield', '(', '1976', ')', '.', 'examining', 'the', 'es', '##pad', '##ons', 'data', 'in', 'isolation', 'yields', 'p', 'rot', '=', '0', '.', '978', '##8', '##7', '(', '6', ')', 'd', ',', 'consistent', 'within', 'uncertainty', 'with', 'the', 'k', '##2', 'period', '(', 'bowman', 'et', 'al', '.', '2018', ')', '.', 'the', 'period', 'determined', 'from', 'all', 'available', 'magnetic', 'data', '(', 'i', '.', 'e', '.', 'including', 'the', 'previously', 'overlooked', '〈', 'b', 'z', '〉', 'measurements', 'of', 'bo', '##rra', 'et', 'al', '.', '1983', ')', 'is', '0', '.', '97', '##9', '##85', '##5', '(', '5', ')', 'd', '.', 'the', 'photo', '##metric', 'and', 'magnetic', 'data', 'are', 'shown', 'phased', 'with', 'this', 'period', 'in', 'the', 'middle', 'panel', 'of', 'fig', '.', '1', '.', 'ph', '##asi', '##ng', '〈', 'b', 'z', '〉', 'with', 'this', 'period', 'and', 'fitting', 'the', 'es', '##pad', '##ons', 'data', 'with', 'a', 'second', '-', 'order', 'sin', '##uso', '##id', 'yields', 'a', 'reduced', 'χ', '2', '=', '5', ',', 'i', '.', 'e', '.', 'a', 'poor', 'fit', '.', 'this', 'period', 'also', 'does', 'not', 'provide', 'a', 'coherent', 'ph', '##asi', '##ng', 'of', 'the', 'majority', 'of', 'the', 'photo', '##metric', 'data', 'set', '.', 'notably', ',', 'the', 'variation', 'in', 'the', 'phase', '-', 'bin', '##ned', 'sm', '##ei', 'data', 'almost', 'completely', 'disappears', ',', 'likely', 'because', 'observations', 'are', 'being', 'bin', '##ned', 'as', 'though', 'they', 'were', 'at', 'the', 'same', 'phase', 'when', ',', 'in', 'fact', ',', 'they', 'are', 'not', '.', 'we', 'can', 'also', 'combine', 'all', 'available', 'photo', '##metric', 'data', '(', 'shifted', 'to', 'the', 'mean', 'magnitude', 'of', 'each', 'data', 'set', ',', 'as', 'in', 'fig', '.', '1', ')', ',', 'which', 'yields', 'p', 'rot', '=', '[SEP]']\n"
          ]
        }
      ],
      "source": [
        "text= dataset[\"train\"][0]\n",
        "tokenized_input = tokenizer(text[\"tokens\"], is_split_into_words=True)\n",
        "tokens = tokenizer.convert_ids_to_tokens(tokenized_input.input_ids)\n",
        "print(tokens)"
      ]
    },
    {
      "cell_type": "code",
      "execution_count": null,
      "metadata": {
        "colab": {
          "base_uri": "https://localhost:8080/"
        },
        "id": "XX7L4xY5hipx",
        "outputId": "5a3069e7-3ec7-4cfe-e0a0-f2eecc3d1c14"
      },
      "outputs": [
        {
          "output_type": "stream",
          "name": "stdout",
          "text": [
            "{'input_ids': [101, 5819, 1037, 9608, 19452, 4906, 2000, 1996, 9686, 15455, 5644, 2951, 2064, 2022, 4719, 2478, 2023, 2558, 1010, 2009, 2515, 2025, 3965, 2019, 11701, 6887, 21369, 3070, 1997, 2035, 2800, 1637, 1038, 1062, 1638, 11702, 1012, 3275, 1015, 1012, 6302, 12589, 1006, 2327, 1007, 1998, 8060, 1637, 1038, 1062, 1638, 1006, 3953, 1007, 11702, 1010, 21718, 2007, 6993, 4340, 2013, 1006, 2187, 2000, 2157, 1007, 1047, 2475, 6302, 24327, 1010, 2035, 1637, 1038, 1062, 1638, 11702, 1010, 1998, 2035, 6302, 12589, 11702, 1012, 1637, 1038, 1062, 1638, 11702, 2020, 4663, 2013, 9686, 15455, 5644, 2011, 18454, 7096, 2480, 3802, 2632, 1012, 1006, 2760, 1007, 1998, 6302, 18155, 8486, 12589, 2951, 2011, 8945, 11335, 3802, 2632, 1012, 1006, 3172, 1010, 1038, 7096, 2620, 2509, 1007, 1998, 8945, 7317, 10497, 2121, 3802, 2632, 1012, 1006, 2857, 1010, 1038, 7096, 2683, 2509, 1007, 1012, 1996, 5024, 1998, 18198, 10543, 2265, 1010, 4414, 1010, 1996, 2190, 2117, 1011, 2344, 19452, 4906, 2000, 1996, 9686, 15455, 5644, 1637, 1038, 1062, 1638, 2951, 1998, 1996, 1015, 29733, 4906, 12503, 1012, 6302, 12589, 2951, 2024, 2013, 1047, 2475, 1010, 15488, 7416, 1010, 5099, 19362, 13186, 1006, 1044, 1052, 1007, 1010, 1998, 2358, 21716, 13565, 1061, 6302, 24327, 2405, 2011, 26261, 25074, 2078, 3802, 2632, 1012, 1006, 2786, 1010, 1055, 2683, 2629, 1007, 1010, 2158, 19699, 9314, 3802, 2632, 1012, 1006, 2786, 1010, 1049, 2683, 2629, 1007, 1010, 1998, 27409, 19438, 5054, 1006, 3355, 1010, 1052, 2581, 2581, 1007, 1012, 2005, 15563, 1996, 1047, 2475, 1998, 15488, 7416, 2951, 2031, 2042, 8026, 7228, 2011, 4403, 1010, 2478, 8026, 10826, 1997, 1014, 1012, 5890, 12709, 1012, 1996, 2812, 10194, 1997, 2169, 2951, 2275, 2001, 4942, 24301, 2005, 4653, 5682, 1012, 2035, 1997, 1996, 6993, 4663, 2144, 1996, 2095, 2456, 2024, 3155, 8335, 2007, 2028, 2178, 1025, 1996, 2048, 6993, 4340, 2478, 6302, 12589, 2951, 4663, 3188, 2000, 1996, 2095, 2456, 2024, 2036, 8335, 2007, 2028, 2178, 1012, 2012, 1996, 2168, 2051, 1010, 1996, 4489, 2090, 1996, 19298, 3802, 2632, 1012, 1006, 2760, 1007, 1998, 13973, 2080, 13363, 1006, 2727, 1007, 6993, 1010, 1014, 1012, 2199, 16068, 1040, 1010, 2003, 2471, 2809, 2335, 3469, 2084, 1996, 5337, 12503, 1999, 1996, 19298, 3802, 2632, 1012, 2558, 1006, 1996, 2625, 10480, 1997, 1996, 2048, 1007, 1012, 2023, 6083, 2008, 1996, 2558, 2089, 2031, 2904, 1012, 1017, 1012, 1016, 2558, 4106, 2057, 2085, 2735, 2000, 1037, 2128, 1011, 7749, 1997, 1996, 2558, 4106, 1997, 1996, 3265, 2951, 4520, 1025, 1996, 3463, 2024, 22539, 1999, 2795, 1016, 1012, 2558, 4106, 2001, 2864, 2478, 3115, 8840, 14905, 1516, 11228, 9354, 6747, 1006, 8840, 14905, 3299, 1025, 11228, 9354, 3196, 1007, 1010, 16911, 2119, 1996, 8909, 2140, 2565, 2558, 8649, 6444, 1018, 1998, 1996, 2558, 2692, 2549, 7427, 1006, 18798, 2480, 7987, 26320, 2384, 1007, 1012, 1996, 9662, 7368, 2020, 4340, 1999, 1996, 2168, 5450, 2004, 2011, 18454, 7096, 2480, 3802, 2632, 1012, 1006, 2760, 1007, 1010, 1045, 1012, 1041, 1012, 2429, 2000, 1996, 23521, 4118, 2649, 2011, 25584, 1006, 3299, 1007, 1012, 12843, 1996, 9686, 15455, 5644, 2951, 1999, 12477, 16189, 1052, 18672, 1027, 1014, 1012, 4891, 2620, 2581, 1006, 1020, 1007, 1040, 1010, 8335, 2306, 12503, 2007, 1996, 1047, 2475, 2558, 1006, 19298, 3802, 2632, 1012, 2760, 1007, 1012, 1996, 2558, 4340, 2013, 2035, 2800, 8060, 2951, 1006, 1045, 1012, 1041, 1012, 2164, 1996, 3130, 17092, 1637, 1038, 1062, 1638, 11702, 1997, 8945, 11335, 3802, 2632, 1012, 3172, 1007, 2003, 1014, 1012, 5989, 2683, 27531, 2629, 1006, 1019, 1007, 1040, 1012, 1996, 6302, 12589, 1998, 8060, 2951, 2024, 3491, 21718, 2007, 2023, 2558, 1999, 1996, 2690, 5997, 1997, 20965, 1012, 1015, 1012, 6887, 21369, 3070, 1637, 1038, 1062, 1638, 2007, 2023, 2558, 1998, 11414, 1996, 9686, 15455, 5644, 2951, 2007, 1037, 2117, 1011, 2344, 8254, 26658, 3593, 16189, 1037, 4359, 1177, 1016, 1027, 1019, 1010, 1045, 1012, 1041, 1012, 1037, 3532, 4906, 1012, 2023, 2558, 2036, 2515, 2025, 3073, 1037, 18920, 6887, 21369, 3070, 1997, 1996, 3484, 1997, 1996, 6302, 12589, 2951, 2275, 1012, 5546, 1010, 1996, 8386, 1999, 1996, 4403, 1011, 8026, 7228, 15488, 7416, 2951, 2471, 3294, 17144, 1010, 3497, 2138, 9420, 2024, 2108, 8026, 7228, 2004, 2295, 2027, 2020, 2012, 1996, 2168, 4403, 2043, 1010, 1999, 2755, 1010, 2027, 2024, 2025, 1012, 2057, 2064, 2036, 11506, 2035, 2800, 6302, 12589, 2951, 1006, 5429, 2000, 1996, 2812, 10194, 1997, 2169, 2951, 2275, 1010, 2004, 1999, 20965, 1012, 1015, 1007, 1010, 2029, 16189, 1052, 18672, 1027, 102], 'token_type_ids': [0, 0, 0, 0, 0, 0, 0, 0, 0, 0, 0, 0, 0, 0, 0, 0, 0, 0, 0, 0, 0, 0, 0, 0, 0, 0, 0, 0, 0, 0, 0, 0, 0, 0, 0, 0, 0, 0, 0, 0, 0, 0, 0, 0, 0, 0, 0, 0, 0, 0, 0, 0, 0, 0, 0, 0, 0, 0, 0, 0, 0, 0, 0, 0, 0, 0, 0, 0, 0, 0, 0, 0, 0, 0, 0, 0, 0, 0, 0, 0, 0, 0, 0, 0, 0, 0, 0, 0, 0, 0, 0, 0, 0, 0, 0, 0, 0, 0, 0, 0, 0, 0, 0, 0, 0, 0, 0, 0, 0, 0, 0, 0, 0, 0, 0, 0, 0, 0, 0, 0, 0, 0, 0, 0, 0, 0, 0, 0, 0, 0, 0, 0, 0, 0, 0, 0, 0, 0, 0, 0, 0, 0, 0, 0, 0, 0, 0, 0, 0, 0, 0, 0, 0, 0, 0, 0, 0, 0, 0, 0, 0, 0, 0, 0, 0, 0, 0, 0, 0, 0, 0, 0, 0, 0, 0, 0, 0, 0, 0, 0, 0, 0, 0, 0, 0, 0, 0, 0, 0, 0, 0, 0, 0, 0, 0, 0, 0, 0, 0, 0, 0, 0, 0, 0, 0, 0, 0, 0, 0, 0, 0, 0, 0, 0, 0, 0, 0, 0, 0, 0, 0, 0, 0, 0, 0, 0, 0, 0, 0, 0, 0, 0, 0, 0, 0, 0, 0, 0, 0, 0, 0, 0, 0, 0, 0, 0, 0, 0, 0, 0, 0, 0, 0, 0, 0, 0, 0, 0, 0, 0, 0, 0, 0, 0, 0, 0, 0, 0, 0, 0, 0, 0, 0, 0, 0, 0, 0, 0, 0, 0, 0, 0, 0, 0, 0, 0, 0, 0, 0, 0, 0, 0, 0, 0, 0, 0, 0, 0, 0, 0, 0, 0, 0, 0, 0, 0, 0, 0, 0, 0, 0, 0, 0, 0, 0, 0, 0, 0, 0, 0, 0, 0, 0, 0, 0, 0, 0, 0, 0, 0, 0, 0, 0, 0, 0, 0, 0, 0, 0, 0, 0, 0, 0, 0, 0, 0, 0, 0, 0, 0, 0, 0, 0, 0, 0, 0, 0, 0, 0, 0, 0, 0, 0, 0, 0, 0, 0, 0, 0, 0, 0, 0, 0, 0, 0, 0, 0, 0, 0, 0, 0, 0, 0, 0, 0, 0, 0, 0, 0, 0, 0, 0, 0, 0, 0, 0, 0, 0, 0, 0, 0, 0, 0, 0, 0, 0, 0, 0, 0, 0, 0, 0, 0, 0, 0, 0, 0, 0, 0, 0, 0, 0, 0, 0, 0, 0, 0, 0, 0, 0, 0, 0, 0, 0, 0, 0, 0, 0, 0, 0, 0, 0, 0, 0, 0, 0, 0, 0, 0, 0, 0, 0, 0, 0, 0, 0, 0, 0, 0, 0, 0, 0, 0, 0, 0, 0, 0, 0, 0, 0, 0, 0, 0, 0, 0, 0, 0, 0, 0, 0, 0, 0, 0, 0, 0, 0, 0, 0, 0, 0, 0, 0, 0, 0, 0, 0, 0, 0, 0, 0, 0, 0, 0, 0, 0, 0, 0, 0, 0, 0, 0, 0, 0, 0, 0, 0, 0, 0, 0, 0, 0, 0, 0, 0, 0, 0, 0, 0, 0, 0, 0, 0, 0, 0, 0, 0, 0, 0, 0, 0, 0, 0, 0, 0, 0, 0, 0, 0, 0, 0, 0, 0, 0, 0, 0, 0, 0, 0, 0, 0, 0, 0, 0, 0, 0, 0, 0, 0, 0, 0, 0, 0, 0, 0, 0, 0, 0, 0, 0, 0, 0, 0, 0, 0, 0, 0, 0, 0, 0, 0, 0, 0, 0, 0, 0, 0, 0, 0, 0, 0, 0, 0, 0, 0, 0, 0, 0, 0, 0, 0, 0, 0, 0, 0, 0, 0, 0, 0, 0, 0, 0, 0, 0, 0, 0, 0, 0, 0, 0, 0, 0, 0, 0, 0, 0, 0, 0, 0, 0, 0, 0, 0, 0, 0, 0, 0, 0, 0, 0, 0, 0, 0, 0, 0, 0, 0, 0, 0, 0, 0, 0, 0, 0, 0, 0, 0, 0, 0, 0, 0, 0, 0, 0, 0, 0, 0, 0, 0, 0, 0, 0, 0, 0, 0, 0, 0, 0, 0, 0, 0, 0, 0, 0, 0, 0, 0, 0, 0, 0, 0, 0, 0, 0, 0, 0, 0, 0, 0, 0, 0, 0, 0, 0, 0, 0, 0, 0, 0, 0, 0, 0, 0, 0, 0, 0, 0, 0, 0, 0, 0, 0, 0, 0, 0, 0], 'attention_mask': [1, 1, 1, 1, 1, 1, 1, 1, 1, 1, 1, 1, 1, 1, 1, 1, 1, 1, 1, 1, 1, 1, 1, 1, 1, 1, 1, 1, 1, 1, 1, 1, 1, 1, 1, 1, 1, 1, 1, 1, 1, 1, 1, 1, 1, 1, 1, 1, 1, 1, 1, 1, 1, 1, 1, 1, 1, 1, 1, 1, 1, 1, 1, 1, 1, 1, 1, 1, 1, 1, 1, 1, 1, 1, 1, 1, 1, 1, 1, 1, 1, 1, 1, 1, 1, 1, 1, 1, 1, 1, 1, 1, 1, 1, 1, 1, 1, 1, 1, 1, 1, 1, 1, 1, 1, 1, 1, 1, 1, 1, 1, 1, 1, 1, 1, 1, 1, 1, 1, 1, 1, 1, 1, 1, 1, 1, 1, 1, 1, 1, 1, 1, 1, 1, 1, 1, 1, 1, 1, 1, 1, 1, 1, 1, 1, 1, 1, 1, 1, 1, 1, 1, 1, 1, 1, 1, 1, 1, 1, 1, 1, 1, 1, 1, 1, 1, 1, 1, 1, 1, 1, 1, 1, 1, 1, 1, 1, 1, 1, 1, 1, 1, 1, 1, 1, 1, 1, 1, 1, 1, 1, 1, 1, 1, 1, 1, 1, 1, 1, 1, 1, 1, 1, 1, 1, 1, 1, 1, 1, 1, 1, 1, 1, 1, 1, 1, 1, 1, 1, 1, 1, 1, 1, 1, 1, 1, 1, 1, 1, 1, 1, 1, 1, 1, 1, 1, 1, 1, 1, 1, 1, 1, 1, 1, 1, 1, 1, 1, 1, 1, 1, 1, 1, 1, 1, 1, 1, 1, 1, 1, 1, 1, 1, 1, 1, 1, 1, 1, 1, 1, 1, 1, 1, 1, 1, 1, 1, 1, 1, 1, 1, 1, 1, 1, 1, 1, 1, 1, 1, 1, 1, 1, 1, 1, 1, 1, 1, 1, 1, 1, 1, 1, 1, 1, 1, 1, 1, 1, 1, 1, 1, 1, 1, 1, 1, 1, 1, 1, 1, 1, 1, 1, 1, 1, 1, 1, 1, 1, 1, 1, 1, 1, 1, 1, 1, 1, 1, 1, 1, 1, 1, 1, 1, 1, 1, 1, 1, 1, 1, 1, 1, 1, 1, 1, 1, 1, 1, 1, 1, 1, 1, 1, 1, 1, 1, 1, 1, 1, 1, 1, 1, 1, 1, 1, 1, 1, 1, 1, 1, 1, 1, 1, 1, 1, 1, 1, 1, 1, 1, 1, 1, 1, 1, 1, 1, 1, 1, 1, 1, 1, 1, 1, 1, 1, 1, 1, 1, 1, 1, 1, 1, 1, 1, 1, 1, 1, 1, 1, 1, 1, 1, 1, 1, 1, 1, 1, 1, 1, 1, 1, 1, 1, 1, 1, 1, 1, 1, 1, 1, 1, 1, 1, 1, 1, 1, 1, 1, 1, 1, 1, 1, 1, 1, 1, 1, 1, 1, 1, 1, 1, 1, 1, 1, 1, 1, 1, 1, 1, 1, 1, 1, 1, 1, 1, 1, 1, 1, 1, 1, 1, 1, 1, 1, 1, 1, 1, 1, 1, 1, 1, 1, 1, 1, 1, 1, 1, 1, 1, 1, 1, 1, 1, 1, 1, 1, 1, 1, 1, 1, 1, 1, 1, 1, 1, 1, 1, 1, 1, 1, 1, 1, 1, 1, 1, 1, 1, 1, 1, 1, 1, 1, 1, 1, 1, 1, 1, 1, 1, 1, 1, 1, 1, 1, 1, 1, 1, 1, 1, 1, 1, 1, 1, 1, 1, 1, 1, 1, 1, 1, 1, 1, 1, 1, 1, 1, 1, 1, 1, 1, 1, 1, 1, 1, 1, 1, 1, 1, 1, 1, 1, 1, 1, 1, 1, 1, 1, 1, 1, 1, 1, 1, 1, 1, 1, 1, 1, 1, 1, 1, 1, 1, 1, 1, 1, 1, 1, 1, 1, 1, 1, 1, 1, 1, 1, 1, 1, 1, 1, 1, 1, 1, 1, 1, 1, 1, 1, 1, 1, 1, 1, 1, 1, 1, 1, 1, 1, 1, 1, 1, 1, 1, 1, 1, 1, 1, 1, 1, 1, 1, 1, 1, 1, 1, 1, 1, 1, 1, 1, 1, 1, 1, 1, 1, 1, 1, 1, 1, 1, 1, 1, 1, 1, 1, 1, 1, 1, 1, 1, 1, 1, 1, 1, 1, 1, 1, 1, 1, 1, 1, 1, 1, 1, 1, 1, 1, 1, 1, 1, 1, 1, 1, 1, 1, 1, 1, 1, 1, 1, 1, 1, 1, 1, 1, 1, 1, 1, 1, 1, 1, 1, 1, 1, 1, 1, 1, 1, 1, 1, 1, 1, 1, 1, 1, 1, 1]}\n",
            "[None, 0, 1, 2, 3, 4, 5, 6, 7, 7, 7, 8, 9, 10, 11, 12, 13, 14, 14, 15, 16, 17, 18, 19, 20, 21, 21, 21, 22, 23, 24, 25, 26, 27, 28, 29, 29, 30, 31, 31, 32, 32, 33, 34, 35, 36, 37, 38, 39, 40, 41, 42, 43, 44, 45, 45, 46, 47, 48, 49, 50, 51, 51, 52, 53, 53, 54, 54, 55, 55, 55, 56, 57, 58, 59, 60, 61, 61, 62, 63, 64, 64, 65, 65, 66, 67, 68, 69, 70, 71, 72, 73, 74, 74, 74, 75, 76, 76, 76, 77, 78, 78, 79, 80, 81, 82, 83, 83, 83, 83, 84, 85, 86, 86, 87, 88, 88, 89, 90, 91, 92, 92, 92, 92, 92, 93, 94, 94, 94, 94, 95, 96, 96, 97, 98, 99, 100, 100, 100, 100, 100, 100, 101, 102, 103, 104, 105, 106, 106, 107, 107, 108, 109, 110, 110, 110, 111, 112, 113, 114, 115, 115, 115, 116, 117, 118, 119, 120, 121, 122, 123, 123, 124, 125, 125, 126, 126, 127, 128, 129, 130, 130, 130, 131, 131, 131, 132, 132, 132, 133, 134, 135, 136, 136, 137, 138, 138, 138, 139, 140, 140, 141, 142, 143, 143, 143, 144, 145, 145, 146, 147, 148, 149, 149, 149, 149, 149, 150, 150, 150, 151, 152, 152, 153, 154, 155, 156, 156, 156, 156, 156, 157, 158, 159, 159, 160, 161, 162, 163, 163, 163, 163, 163, 164, 165, 166, 167, 167, 168, 169, 169, 170, 171, 172, 173, 173, 174, 175, 175, 176, 177, 178, 179, 180, 180, 180, 181, 181, 182, 183, 184, 185, 186, 187, 188, 189, 190, 190, 191, 192, 193, 193, 194, 195, 196, 197, 198, 199, 200, 201, 202, 203, 204, 205, 206, 207, 208, 208, 209, 210, 211, 212, 213, 214, 214, 215, 216, 217, 218, 219, 220, 221, 222, 223, 224, 225, 226, 227, 227, 228, 229, 230, 231, 231, 232, 233, 234, 235, 236, 237, 238, 238, 239, 240, 241, 242, 243, 243, 244, 245, 246, 247, 248, 248, 249, 249, 249, 249, 250, 250, 251, 252, 253, 254, 255, 256, 257, 258, 259, 260, 261, 262, 263, 264, 264, 265, 266, 266, 267, 268, 269, 270, 271, 271, 271, 272, 273, 274, 275, 276, 277, 278, 279, 279, 280, 280, 280, 281, 282, 283, 284, 285, 286, 287, 288, 288, 288, 289, 290, 291, 292, 293, 294, 295, 296, 297, 297, 298, 299, 300, 301, 302, 303, 304, 305, 306, 307, 308, 309, 310, 311, 312, 312, 312, 312, 312, 313, 314, 314, 314, 315, 316, 317, 317, 318, 319, 319, 320, 321, 322, 323, 323, 324, 325, 325, 325, 326, 327, 328, 329, 329, 329, 330, 331, 331, 331, 332, 332, 333, 334, 334, 335, 336, 336, 337, 338, 339, 340, 341, 342, 343, 344, 345, 345, 345, 346, 347, 347, 348, 349, 350, 350, 351, 351, 351, 351, 352, 353, 354, 355, 356, 357, 358, 359, 360, 361, 362, 362, 363, 364, 365, 365, 365, 366, 367, 368, 369, 370, 371, 372, 373, 373, 373, 373, 373, 373, 373, 373, 374, 374, 375, 376, 377, 378, 379, 380, 380, 381, 382, 382, 383, 384, 384, 385, 386, 386, 387, 388, 389, 390, 391, 392, 393, 394, 395, 395, 395, 395, 395, 396, 397, 398, 399, 400, 401, 402, 403, 404, 405, 406, 406, 407, 408, 408, 409, 410, 411, 412, 412, 412, 412, 412, 412, 412, 412, 412, 413, 413, 414, 415, 415, 416, 417, 418, 419, 420, 421, 422, 423, 424, 425, 426, 427, 428, 429, 430, 430, 431, 432, 433, 433, 433, 434, 435, 436, 437, 438, 439, 440, 441, 442, 443, 444, 444, 444, 445, 446, 447, 448, 448, 448, 449, 449, 449, 450, 451, 452, 453, 454, 455, 456, 456, 457, 457, 457, 457, 458, 459, 460, 460, 461, 462, 463, 464, 465, 466, 467, 468, 469, 469, 469, 470, 471, 472, 473, 474, 475, 475, 476, 477, 477, 478, 478, 479, 480, 481, 482, 483, 483, 483, 483, 484, 484, 485, 486, 487, 488, 488, 489, 490, 491, 492, 493, 494, 494, 495, 496, 497, 498, 499, 500, 501, 502, 503, 503, 504, 505, 505, 506, 507, 508, 508, 509, 510, 511, 512, 513, 514, 515, 515, 516, 517, 517, 518, 519, 520, 521, 522, 523, 524, 525, 525, 526, 527, 528, 528, 529, 530, 530, 531, 532, 533, 534, 535, None]\n"
          ]
        }
      ],
      "source": [
        "print(tokenized_input)\n",
        "word_ids = tokenized_input.word_ids()\n",
        "print(word_ids)"
      ]
    },
    {
      "cell_type": "markdown",
      "source": [
        "# Tokenize all the Dataset"
      ],
      "metadata": {
        "id": "7GJwPPH3r71q"
      }
    },
    {
      "cell_type": "code",
      "execution_count": null,
      "metadata": {
        "id": "Prryt8pbhsTp"
      },
      "outputs": [],
      "source": [
        "train_dataset = dataset[\"train\"]\n",
        "#test_func= tokenize_and_align_labels(train_dataset[2:5])\n",
        "#test_func"
      ]
    },
    {
      "cell_type": "code",
      "execution_count": null,
      "metadata": {
        "colab": {
          "base_uri": "https://localhost:8080/",
          "height": 113,
          "referenced_widgets": [
            "74fd56190e6b4a64914c8776bfdb9eb5",
            "a708c205f49a42b18948b2dc4073aba5",
            "efa263c994b54ff9b4223609cc8e8edc",
            "3683fc49004040138ba551012c7c5034",
            "650d89aacff84847a8870f19e39969f3",
            "b84d8cf655c2407bb1b2e2ce4339189d",
            "87d32de78e484387b983d791dcccd259",
            "14bbb5b18806404a8a21dea159833c1d",
            "e1e766fed844499b9b7cecc96f617ae2",
            "f78167bad78744268528b498076ae385",
            "d105f33f98ad462c943f0107b47b10b6",
            "ef38d11fd1ff48fb87baed68931d722e",
            "010cece4964643bbbfc18d2213e71c9c",
            "fb784a67a0a14d07b841796a72ba97f0",
            "cd36285b9f394d60986dc58015d80a68",
            "d116b52d396240d29a28cde80f813cb1",
            "ef0382f3cc05458b8aa204784ceee336",
            "dd8026cef4d245baaaee459e45a2b68b",
            "b463c437ccce46c78ae0dadeaf8d251c",
            "6422bd50aac54bcc8ee187c546720145",
            "5c3335e661994db4b38db6a3660cb924",
            "cea31acc0a6846818789d357867d3167",
            "8d883b2f6c8d40958b948b59f7e36886",
            "4c2b04fb1afe4d878b476941992b9742",
            "4cd588e2584e4f619456f20ac30fe5f0",
            "23ac004026e3432d88a9a93cbce3ed6b",
            "beea5cd1e23e4585905c59afbb47e0c0",
            "dcd44202900b4c9986b2ed0774a39f66",
            "6987e4934fbd498f9666dd989c70b9aa",
            "0f19bddf8cfd4606afea42e7b33de741",
            "a587f2d93f49489999ccc3c6c8fbbe98",
            "5fee7b9c32434816afa0b362fe037751",
            "df76636bbed94dae9b4d1165c0a23a36"
          ]
        },
        "id": "yswfiJgKhuCc",
        "outputId": "86ec9af7-732b-4d73-ed49-4d086aedb37c"
      },
      "outputs": [
        {
          "output_type": "display_data",
          "data": {
            "text/plain": [
              "Map:   0%|          | 0/1753 [00:00<?, ? examples/s]"
            ],
            "application/vnd.jupyter.widget-view+json": {
              "version_major": 2,
              "version_minor": 0,
              "model_id": "74fd56190e6b4a64914c8776bfdb9eb5"
            }
          },
          "metadata": {}
        },
        {
          "output_type": "display_data",
          "data": {
            "text/plain": [
              "Map:   0%|          | 0/1366 [00:00<?, ? examples/s]"
            ],
            "application/vnd.jupyter.widget-view+json": {
              "version_major": 2,
              "version_minor": 0,
              "model_id": "ef38d11fd1ff48fb87baed68931d722e"
            }
          },
          "metadata": {}
        },
        {
          "output_type": "display_data",
          "data": {
            "text/plain": [
              "Map:   0%|          | 0/2505 [00:00<?, ? examples/s]"
            ],
            "application/vnd.jupyter.widget-view+json": {
              "version_major": 2,
              "version_minor": 0,
              "model_id": "8d883b2f6c8d40958b948b59f7e36886"
            }
          },
          "metadata": {}
        }
      ],
      "source": [
        "def tokenize_and_align_labels(examples):\n",
        "    tokenized_inputs = tokenizer(examples[\"tokens\"], truncation=True, padding='max_length', max_length=512, is_split_into_words=True)\n",
        "    labels = []\n",
        "    for i, label in enumerate(examples[\"ner_tags\"]):\n",
        "        word_ids = tokenized_inputs.word_ids(batch_index=i)\n",
        "        previous_word_idx = None\n",
        "        label_ids = []\n",
        "        for word_idx in word_ids:\n",
        "            if word_idx is None:\n",
        "                label_ids.append(-100)\n",
        "            elif word_idx != previous_word_idx:\n",
        "                label_ids.append(label2id[label[word_idx]])\n",
        "            else:\n",
        "                label_ids.append(label2id[label[word_idx]])\n",
        "            previous_word_idx = word_idx\n",
        "        # Ensure labels are also padded to max_length\n",
        "        label_ids += [-100] * (512 - len(label_ids))\n",
        "        labels.append(label_ids)\n",
        "    tokenized_inputs[\"labels\"] = labels\n",
        "    return tokenized_inputs\n",
        "\n",
        "# Modify the dataset mapping\n",
        "tokenized_datasets = dataset.map(tokenize_and_align_labels, batched=True)"
      ]
    },
    {
      "cell_type": "code",
      "execution_count": null,
      "metadata": {
        "id": "6cf1H00Yh1Z9"
      },
      "outputs": [],
      "source": [
        "test_dataset = tokenized_datasets[\"test\"]\n",
        "tokenized_datasets = tokenized_datasets.remove_columns([\"tokens\",\"ner_tags\"])"
      ]
    },
    {
      "cell_type": "code",
      "execution_count": null,
      "metadata": {
        "id": "lPN2SkPtixtf",
        "outputId": "b2c7c0a1-a467-4c6b-fa50-46550621d6d4",
        "colab": {
          "base_uri": "https://localhost:8080/"
        }
      },
      "outputs": [
        {
          "output_type": "stream",
          "name": "stderr",
          "text": [
            "<ipython-input-13-99f7bc4e82cb>:3: FutureWarning: load_metric is deprecated and will be removed in the next major version of datasets. Use 'evaluate.load' instead, from the new library 🤗 Evaluate: https://huggingface.co/docs/evaluate\n",
            "  metric = load_metric(\"seqeval\")\n"
          ]
        }
      ],
      "source": [
        "from datasets import load_metric\n",
        "data_collator = DataCollatorForTokenClassification(tokenizer)\n",
        "metric = load_metric(\"seqeval\")\n"
      ]
    },
    {
      "cell_type": "code",
      "execution_count": null,
      "metadata": {
        "id": "CQbOYefui3up"
      },
      "outputs": [],
      "source": [
        "train_dataset = tokenized_datasets[\"train\"]\n",
        "val_dataset = tokenized_datasets[\"validation\"]"
      ]
    },
    {
      "cell_type": "markdown",
      "source": [
        "# train and evaluation model"
      ],
      "metadata": {
        "id": "cHLzIV3AsHA2"
      }
    },
    {
      "cell_type": "code",
      "execution_count": null,
      "metadata": {
        "id": "GhBxGwOFi-dk"
      },
      "outputs": [],
      "source": [
        "def compute_metrics(eval_preds, label2id, id2label, zero_division='warn'):\n",
        "  pred_logits, labels = eval_preds\n",
        "\n",
        "  pred_logits = np.argmax(pred_logits, axis=2)\n",
        "  # No need for softmax\n",
        "\n",
        "  predictions = [\n",
        "      [id2label[eval_preds] for (eval_preds, l) in zip(prediction, label) if l != -100]\n",
        "      for prediction, label in zip(pred_logits, labels)\n",
        "  ]\n",
        "\n",
        "  true_labels = [\n",
        "      [id2label[l] for (eval_preds, l) in zip(prediction, label) if l != -100]\n",
        "      for prediction, label in zip(pred_logits, labels)\n",
        "  ]\n",
        "\n",
        "  results = metric.compute(predictions=predictions, references=true_labels, zero_division=zero_division)\n",
        "  return {\n",
        "      \"precision\": results[\"overall_precision\"],\n",
        "      \"recall\": results[\"overall_recall\"],\n",
        "      \"f1\": results[\"overall_f1\"],\n",
        "      \"accuracy\": results[\"overall_accuracy\"],\n",
        "  }\n"
      ]
    },
    {
      "cell_type": "code",
      "execution_count": null,
      "metadata": {
        "id": "I1znLIlbjAk0",
        "colab": {
          "base_uri": "https://localhost:8080/"
        },
        "outputId": "1fb276b1-319b-454a-8551-3f029e89a0c4"
      },
      "outputs": [
        {
          "output_type": "stream",
          "name": "stderr",
          "text": [
            "/usr/local/lib/python3.10/dist-packages/transformers/training_args.py:1494: FutureWarning: `evaluation_strategy` is deprecated and will be removed in version 4.46 of 🤗 Transformers. Use `eval_strategy` instead\n",
            "  warnings.warn(\n"
          ]
        }
      ],
      "source": [
        "from transformers import AutoModelForTokenClassification, TrainingArguments, Trainer\n",
        "args = TrainingArguments(\n",
        "    output_dir=\"./results\",\n",
        "    evaluation_strategy=\"epoch\",\n",
        "    per_device_train_batch_size=4,\n",
        "    per_device_eval_batch_size=4,\n",
        "    num_train_epochs=10,\n",
        "    weight_decay=0.01,\n",
        "    learning_rate = 5e-5,\n",
        "    save_strategy = 'epoch',\n",
        "    logging_strategy = 'epoch',\n",
        "    log_level = \"error\"\n",
        ")\n",
        "\n",
        "\n",
        "trainer = Trainer(\n",
        "   model=model,\n",
        "   args=args,\n",
        "   train_dataset=train_dataset,\n",
        "   eval_dataset=val_dataset,\n",
        "   data_collator=data_collator,\n",
        "   tokenizer=tokenizer,\n",
        "   compute_metrics=lambda x: compute_metrics(x, label2id, id2label)\n",
        ")\n"
      ]
    },
    {
      "cell_type": "code",
      "execution_count": null,
      "metadata": {
        "colab": {
          "base_uri": "https://localhost:8080/",
          "height": 766
        },
        "id": "J6-1LPeGjDn6",
        "outputId": "25e71534-076a-43e4-8bdb-353c47cfa1c2"
      },
      "outputs": [
        {
          "data": {
            "text/html": [
              "\n",
              "    <div>\n",
              "      \n",
              "      <progress value='1827' max='4390' style='width:300px; height:20px; vertical-align: middle;'></progress>\n",
              "      [1827/4390 19:10 < 26:55, 1.59 it/s, Epoch 4.16/10]\n",
              "    </div>\n",
              "    <table border=\"1\" class=\"dataframe\">\n",
              "  <thead>\n",
              " <tr style=\"text-align: left;\">\n",
              "      <th>Epoch</th>\n",
              "      <th>Training Loss</th>\n",
              "      <th>Validation Loss</th>\n",
              "      <th>Precision</th>\n",
              "      <th>Recall</th>\n",
              "      <th>F1</th>\n",
              "      <th>Accuracy</th>\n",
              "    </tr>\n",
              "  </thead>\n",
              "  <tbody>\n",
              "    <tr>\n",
              "      <td>1</td>\n",
              "      <td>0.521700</td>\n",
              "      <td>0.275806</td>\n",
              "      <td>0.726846</td>\n",
              "      <td>0.757100</td>\n",
              "      <td>0.741665</td>\n",
              "      <td>0.929071</td>\n",
              "    </tr>\n",
              "    <tr>\n",
              "      <td>2</td>\n",
              "      <td>0.217300</td>\n",
              "      <td>0.233277</td>\n",
              "      <td>0.785417</td>\n",
              "      <td>0.790416</td>\n",
              "      <td>0.787909</td>\n",
              "      <td>0.939719</td>\n",
              "    </tr>\n",
              "    <tr>\n",
              "      <td>3</td>\n",
              "      <td>0.143200</td>\n",
              "      <td>0.233925</td>\n",
              "      <td>0.767234</td>\n",
              "      <td>0.830411</td>\n",
              "      <td>0.797573</td>\n",
              "      <td>0.941308</td>\n",
              "    </tr>\n",
              "    <tr>\n",
              "      <td>4</td>\n",
              "      <td>0.098400</td>\n",
              "      <td>0.230609</td>\n",
              "      <td>0.800117</td>\n",
              "      <td>0.827112</td>\n",
              "      <td>0.813390</td>\n",
              "      <td>0.946121</td>\n",
              "    </tr>\n",
              "  </tbody>\n",
              "</table><p>"
            ],
            "text/plain": [
              "<IPython.core.display.HTML object>"
            ]
          },
          "metadata": {},
          "output_type": "display_data"
        },
        {
          "metadata": {
            "tags": null
          },
          "name": "stderr",
          "output_type": "stream",
          "text": [
            "/usr/local/lib/python3.10/dist-packages/seqeval/metrics/v1.py:57: UndefinedMetricWarning: Precision and F-score are ill-defined and being set to 0.0 in labels with no predicted samples. Use `zero_division` parameter to control this behavior.\n",
            "  _warn_prf(average, modifier, msg_start, len(result))\n",
            "/usr/local/lib/python3.10/dist-packages/seqeval/metrics/v1.py:57: UndefinedMetricWarning: Precision and F-score are ill-defined and being set to 0.0 in labels with no predicted samples. Use `zero_division` parameter to control this behavior.\n",
            "  _warn_prf(average, modifier, msg_start, len(result))\n",
            "/usr/local/lib/python3.10/dist-packages/seqeval/metrics/v1.py:57: UndefinedMetricWarning: Precision and F-score are ill-defined and being set to 0.0 in labels with no predicted samples. Use `zero_division` parameter to control this behavior.\n",
            "  _warn_prf(average, modifier, msg_start, len(result))\n",
            "/usr/local/lib/python3.10/dist-packages/seqeval/metrics/v1.py:57: UndefinedMetricWarning: Precision and F-score are ill-defined and being set to 0.0 in labels with no predicted samples. Use `zero_division` parameter to control this behavior.\n",
            "  _warn_prf(average, modifier, msg_start, len(result))\n"
          ]
        },
        {
          "output_type": "display_data",
          "data": {
            "text/plain": [
              "<IPython.core.display.HTML object>"
            ],
            "text/html": [
              "\n",
              "    <div>\n",
              "      \n",
              "      <progress value='4390' max='4390' style='width:300px; height:20px; vertical-align: middle;'></progress>\n",
              "      [4390/4390 43:49, Epoch 10/10]\n",
              "    </div>\n",
              "    <table border=\"1\" class=\"dataframe\">\n",
              "  <thead>\n",
              " <tr style=\"text-align: left;\">\n",
              "      <th>Epoch</th>\n",
              "      <th>Training Loss</th>\n",
              "      <th>Validation Loss</th>\n",
              "      <th>Precision</th>\n",
              "      <th>Recall</th>\n",
              "      <th>F1</th>\n",
              "      <th>Accuracy</th>\n",
              "    </tr>\n",
              "  </thead>\n",
              "  <tbody>\n",
              "    <tr>\n",
              "      <td>1</td>\n",
              "      <td>0.521700</td>\n",
              "      <td>0.275806</td>\n",
              "      <td>0.726846</td>\n",
              "      <td>0.757100</td>\n",
              "      <td>0.741665</td>\n",
              "      <td>0.929071</td>\n",
              "    </tr>\n",
              "    <tr>\n",
              "      <td>2</td>\n",
              "      <td>0.217300</td>\n",
              "      <td>0.233277</td>\n",
              "      <td>0.785417</td>\n",
              "      <td>0.790416</td>\n",
              "      <td>0.787909</td>\n",
              "      <td>0.939719</td>\n",
              "    </tr>\n",
              "    <tr>\n",
              "      <td>3</td>\n",
              "      <td>0.143200</td>\n",
              "      <td>0.233925</td>\n",
              "      <td>0.767234</td>\n",
              "      <td>0.830411</td>\n",
              "      <td>0.797573</td>\n",
              "      <td>0.941308</td>\n",
              "    </tr>\n",
              "    <tr>\n",
              "      <td>4</td>\n",
              "      <td>0.098400</td>\n",
              "      <td>0.230609</td>\n",
              "      <td>0.800117</td>\n",
              "      <td>0.827112</td>\n",
              "      <td>0.813390</td>\n",
              "      <td>0.946121</td>\n",
              "    </tr>\n",
              "    <tr>\n",
              "      <td>5</td>\n",
              "      <td>0.069400</td>\n",
              "      <td>0.241866</td>\n",
              "      <td>0.803042</td>\n",
              "      <td>0.826113</td>\n",
              "      <td>0.814414</td>\n",
              "      <td>0.946142</td>\n",
              "    </tr>\n",
              "    <tr>\n",
              "      <td>6</td>\n",
              "      <td>0.050300</td>\n",
              "      <td>0.249956</td>\n",
              "      <td>0.794314</td>\n",
              "      <td>0.837857</td>\n",
              "      <td>0.815505</td>\n",
              "      <td>0.945675</td>\n",
              "    </tr>\n",
              "    <tr>\n",
              "      <td>7</td>\n",
              "      <td>0.037400</td>\n",
              "      <td>0.265409</td>\n",
              "      <td>0.810406</td>\n",
              "      <td>0.835941</td>\n",
              "      <td>0.822975</td>\n",
              "      <td>0.947776</td>\n",
              "    </tr>\n",
              "    <tr>\n",
              "      <td>8</td>\n",
              "      <td>0.027100</td>\n",
              "      <td>0.268482</td>\n",
              "      <td>0.804406</td>\n",
              "      <td>0.839595</td>\n",
              "      <td>0.821624</td>\n",
              "      <td>0.947400</td>\n",
              "    </tr>\n",
              "    <tr>\n",
              "      <td>9</td>\n",
              "      <td>0.020900</td>\n",
              "      <td>0.278059</td>\n",
              "      <td>0.812403</td>\n",
              "      <td>0.834476</td>\n",
              "      <td>0.823292</td>\n",
              "      <td>0.948298</td>\n",
              "    </tr>\n",
              "    <tr>\n",
              "      <td>10</td>\n",
              "      <td>0.016700</td>\n",
              "      <td>0.281684</td>\n",
              "      <td>0.810551</td>\n",
              "      <td>0.839719</td>\n",
              "      <td>0.824877</td>\n",
              "      <td>0.948467</td>\n",
              "    </tr>\n",
              "  </tbody>\n",
              "</table><p>"
            ]
          },
          "metadata": {}
        },
        {
          "output_type": "stream",
          "name": "stderr",
          "text": [
            "/usr/local/lib/python3.10/dist-packages/seqeval/metrics/v1.py:57: UndefinedMetricWarning: Precision and F-score are ill-defined and being set to 0.0 in labels with no predicted samples. Use `zero_division` parameter to control this behavior.\n",
            "  _warn_prf(average, modifier, msg_start, len(result))\n"
          ]
        }
      ],
      "source": [
        "results= trainer.train()"
      ]
    },
    {
      "cell_type": "code",
      "source": [
        " trainer.evaluate()"
      ],
      "metadata": {
        "id": "3yx7l-S1SZHj",
        "outputId": "59846a6d-23c8-4c2b-d290-8740084e64cf",
        "colab": {
          "base_uri": "https://localhost:8080/",
          "height": 193
        }
      },
      "execution_count": null,
      "outputs": [
        {
          "output_type": "display_data",
          "data": {
            "text/plain": [
              "<IPython.core.display.HTML object>"
            ],
            "text/html": [
              "\n",
              "    <div>\n",
              "      \n",
              "      <progress value='342' max='342' style='width:300px; height:20px; vertical-align: middle;'></progress>\n",
              "      [342/342 00:46]\n",
              "    </div>\n",
              "    "
            ]
          },
          "metadata": {}
        },
        {
          "output_type": "execute_result",
          "data": {
            "text/plain": [
              "{'eval_loss': 0.2816838026046753,\n",
              " 'eval_precision': 0.8105512102314766,\n",
              " 'eval_recall': 0.8397185836105066,\n",
              " 'eval_f1': 0.8248771403793017,\n",
              " 'eval_accuracy': 0.9484672145899574,\n",
              " 'eval_runtime': 58.0613,\n",
              " 'eval_samples_per_second': 23.527,\n",
              " 'eval_steps_per_second': 5.89,\n",
              " 'epoch': 10.0}"
            ]
          },
          "metadata": {},
          "execution_count": 18
        }
      ]
    },
    {
      "cell_type": "markdown",
      "source": [
        "# saving the model and tokenizer"
      ],
      "metadata": {
        "id": "MteGXCDbsWWl"
      }
    },
    {
      "cell_type": "code",
      "source": [
        "model.save_pretrained(\"ner_model\")\n",
        "tokenizer.save_pretrained(\"ner_model\")"
      ],
      "metadata": {
        "id": "Gp4qXno7lpHf",
        "outputId": "d8b4b46a-8b3f-41fd-d74f-a5eba3eedf8e",
        "colab": {
          "base_uri": "https://localhost:8080/"
        }
      },
      "execution_count": null,
      "outputs": [
        {
          "output_type": "execute_result",
          "data": {
            "text/plain": [
              "('ner_model/tokenizer_config.json',\n",
              " 'ner_model/special_tokens_map.json',\n",
              " 'ner_model/vocab.txt',\n",
              " 'ner_model/added_tokens.json',\n",
              " 'ner_model/tokenizer.json')"
            ]
          },
          "metadata": {},
          "execution_count": 20
        }
      ]
    },
    {
      "cell_type": "code",
      "source": [
        "from google.colab import drive\n",
        "drive.mount('/content/drive')"
      ],
      "metadata": {
        "id": "e99KDbpgl7Md",
        "outputId": "1f919f0b-fb62-4328-ea13-f296f58babcd",
        "colab": {
          "base_uri": "https://localhost:8080/"
        }
      },
      "execution_count": null,
      "outputs": [
        {
          "output_type": "stream",
          "name": "stdout",
          "text": [
            "Mounted at /content/drive\n"
          ]
        }
      ]
    },
    {
      "cell_type": "code",
      "source": [
        "import shutil\n",
        "\n",
        "# Source folder in Colab\n",
        "source_folder = '/content/results'  # Replace with your folder path\n",
        "\n",
        "# Destination folder in Google Drive\n",
        "destination_folder = '/content/drive/My Drive/my_folder/results'  # Replace with your destination path in Drive\n",
        "\n",
        "# Copy the folder\n",
        "shutil.copytree(source_folder, destination_folder)"
      ],
      "metadata": {
        "id": "18b6HgEImAP1",
        "outputId": "645c271b-2edb-4e08-c28a-d123cd31f1cc",
        "colab": {
          "base_uri": "https://localhost:8080/",
          "height": 36
        }
      },
      "execution_count": null,
      "outputs": [
        {
          "output_type": "execute_result",
          "data": {
            "text/plain": [
              "'/content/drive/My Drive/my_folder/results'"
            ],
            "application/vnd.google.colaboratory.intrinsic+json": {
              "type": "string"
            }
          },
          "metadata": {},
          "execution_count": 22
        }
      ]
    },
    {
      "cell_type": "markdown",
      "source": [
        "# prediction"
      ],
      "metadata": {
        "id": "fsGezysqsgyq"
      }
    },
    {
      "cell_type": "code",
      "source": [
        "import json\n",
        "config = json.load(open(\"ner_model/config.json\"))\n",
        "config[\"id2label\"] = id2label\n",
        "config[\"label2id\"] = label2id\n",
        "json.dump(config, open(\"ner_model/config.json\",\"w\"))"
      ],
      "metadata": {
        "id": "WnKY84TrmJs4"
      },
      "execution_count": null,
      "outputs": []
    },
    {
      "cell_type": "code",
      "source": [
        "config[\"id2label\"]"
      ],
      "metadata": {
        "id": "qdHGAAj2mQuw",
        "outputId": "40c32bfd-1895-424e-a10f-f02b7d4aff25",
        "colab": {
          "base_uri": "https://localhost:8080/"
        }
      },
      "execution_count": null,
      "outputs": [
        {
          "output_type": "execute_result",
          "data": {
            "text/plain": [
              "{0: 'I-Collaboration',\n",
              " 1: 'O',\n",
              " 2: 'B-Grant',\n",
              " 3: 'I-Model',\n",
              " 4: 'B-Formula',\n",
              " 5: 'I-Survey',\n",
              " 6: 'B-Citation',\n",
              " 7: 'B-Dataset',\n",
              " 8: 'I-Telescope',\n",
              " 9: 'B-EntityOfFutureInterest',\n",
              " 10: 'I-Wavelength',\n",
              " 11: 'B-Observatory',\n",
              " 12: 'I-Database',\n",
              " 13: 'I-Tag',\n",
              " 14: 'B-Tag',\n",
              " 15: 'B-Person',\n",
              " 16: 'I-Fellowship',\n",
              " 17: 'I-CelestialRegion',\n",
              " 18: 'I-Mission',\n",
              " 19: 'I-Observatory',\n",
              " 20: 'I-URL',\n",
              " 21: 'I-Dataset',\n",
              " 22: 'B-CelestialObjectRegion',\n",
              " 23: 'I-Archive',\n",
              " 24: 'B-Collaboration',\n",
              " 25: 'I-CelestialObjectRegion',\n",
              " 26: 'B-Identifier',\n",
              " 27: 'B-Software',\n",
              " 28: 'B-ObservationalTechniques',\n",
              " 29: 'I-EntityOfFutureInterest',\n",
              " 30: 'I-CelestialObject',\n",
              " 31: 'I-Software',\n",
              " 32: 'I-Citation',\n",
              " 33: 'B-ComputingFacility',\n",
              " 34: 'B-Database',\n",
              " 35: 'I-ObservationalTechniques',\n",
              " 36: 'I-Grant',\n",
              " 37: 'B-Location',\n",
              " 38: 'B-URL',\n",
              " 39: 'I-TextGarbage',\n",
              " 40: 'B-Archive',\n",
              " 41: 'B-Telescope',\n",
              " 42: 'I-Identifier',\n",
              " 43: 'I-Organization',\n",
              " 44: 'B-CelestialObject',\n",
              " 45: 'B-Wavelength',\n",
              " 46: 'I-Event',\n",
              " 47: 'I-Location',\n",
              " 48: 'B-TextGarbage',\n",
              " 49: 'I-Instrument',\n",
              " 50: 'B-Proposal',\n",
              " 51: 'I-Person',\n",
              " 52: 'B-CelestialRegion',\n",
              " 53: 'B-Event',\n",
              " 54: 'B-Instrument',\n",
              " 55: 'I-Formula',\n",
              " 56: 'B-Survey',\n",
              " 57: 'I-Proposal',\n",
              " 58: 'B-Fellowship',\n",
              " 59: 'B-Model',\n",
              " 60: 'B-Mission',\n",
              " 61: 'B-Organization',\n",
              " 62: 'I-ComputingFacility'}"
            ]
          },
          "metadata": {},
          "execution_count": 29
        }
      ]
    },
    {
      "cell_type": "code",
      "source": [
        "config[\"label2id\"]"
      ],
      "metadata": {
        "id": "0R0uH7qtnAlQ",
        "outputId": "040dd358-30eb-446e-abb1-f4d37a6d7e60",
        "colab": {
          "base_uri": "https://localhost:8080/"
        }
      },
      "execution_count": null,
      "outputs": [
        {
          "output_type": "execute_result",
          "data": {
            "text/plain": [
              "{'I-Collaboration': 0,\n",
              " 'O': 1,\n",
              " 'B-Grant': 2,\n",
              " 'I-Model': 3,\n",
              " 'B-Formula': 4,\n",
              " 'I-Survey': 5,\n",
              " 'B-Citation': 6,\n",
              " 'B-Dataset': 7,\n",
              " 'I-Telescope': 8,\n",
              " 'B-EntityOfFutureInterest': 9,\n",
              " 'I-Wavelength': 10,\n",
              " 'B-Observatory': 11,\n",
              " 'I-Database': 12,\n",
              " 'I-Tag': 13,\n",
              " 'B-Tag': 14,\n",
              " 'B-Person': 15,\n",
              " 'I-Fellowship': 16,\n",
              " 'I-CelestialRegion': 17,\n",
              " 'I-Mission': 18,\n",
              " 'I-Observatory': 19,\n",
              " 'I-URL': 20,\n",
              " 'I-Dataset': 21,\n",
              " 'B-CelestialObjectRegion': 22,\n",
              " 'I-Archive': 23,\n",
              " 'B-Collaboration': 24,\n",
              " 'I-CelestialObjectRegion': 25,\n",
              " 'B-Identifier': 26,\n",
              " 'B-Software': 27,\n",
              " 'B-ObservationalTechniques': 28,\n",
              " 'I-EntityOfFutureInterest': 29,\n",
              " 'I-CelestialObject': 30,\n",
              " 'I-Software': 31,\n",
              " 'I-Citation': 32,\n",
              " 'B-ComputingFacility': 33,\n",
              " 'B-Database': 34,\n",
              " 'I-ObservationalTechniques': 35,\n",
              " 'I-Grant': 36,\n",
              " 'B-Location': 37,\n",
              " 'B-URL': 38,\n",
              " 'I-TextGarbage': 39,\n",
              " 'B-Archive': 40,\n",
              " 'B-Telescope': 41,\n",
              " 'I-Identifier': 42,\n",
              " 'I-Organization': 43,\n",
              " 'B-CelestialObject': 44,\n",
              " 'B-Wavelength': 45,\n",
              " 'I-Event': 46,\n",
              " 'I-Location': 47,\n",
              " 'B-TextGarbage': 48,\n",
              " 'I-Instrument': 49,\n",
              " 'B-Proposal': 50,\n",
              " 'I-Person': 51,\n",
              " 'B-CelestialRegion': 52,\n",
              " 'B-Event': 53,\n",
              " 'B-Instrument': 54,\n",
              " 'I-Formula': 55,\n",
              " 'B-Survey': 56,\n",
              " 'I-Proposal': 57,\n",
              " 'B-Fellowship': 58,\n",
              " 'B-Model': 59,\n",
              " 'B-Mission': 60,\n",
              " 'B-Organization': 61,\n",
              " 'I-ComputingFacility': 62}"
            ]
          },
          "metadata": {},
          "execution_count": 28
        }
      ]
    },
    {
      "cell_type": "code",
      "source": [
        "model_fine_tuned = AutoModelForTokenClassification.from_pretrained(\"ner_model\")"
      ],
      "metadata": {
        "id": "51jR1rsdmSiP"
      },
      "execution_count": null,
      "outputs": []
    },
    {
      "cell_type": "code",
      "source": [
        "print(dataset['test']['tokens'][0])"
      ],
      "metadata": {
        "id": "63-zAp5XnQS4",
        "outputId": "87703f17-ebfc-4d69-8891-cd042ba09cfc",
        "colab": {
          "base_uri": "https://localhost:8080/"
        }
      },
      "execution_count": null,
      "outputs": [
        {
          "output_type": "stream",
          "name": "stdout",
          "text": [
            "['The', 'authors', 'would', 'like', 'to', 'thank', 'Adam', 'Burgasser,', 'Brendan', 'Bowler,', 'Kelle', 'Cruz,', 'Mike', 'Cushing,', 'Michael', 'Liu,', 'and', 'Emily', 'Rice', 'for', 'useful', 'discussions', 'on', 'benchmark', 'systems,', 'data', 'treatment,', 'and', 'various', 'data-model', 'comparison', 'approaches.', 'The', 'authors', 'thank', 'Richard', 'Freedman', 'and', 'Roxana', 'Lupu', 'for', 'providing', 'gas', 'opacities', 'and', 'Caroline', 'Morley', 'for', 'radiative', 'transfer', 'code', 'comparisons', 'and', 'helpful', 'discussions.', 'We', 'thank', 'Jacob', 'Lustig-Yeager', 'and', 'Kyle', 'Luther', 'for', 'rewriting', 'portions', 'of', 'the', 'code', 'in', 'python', 'and', 'C', 'for', 'significant', 'speed', 'improvements', 'and', 'also', 'Dan', 'Foreman-Mackey', 'for', 'making', 'EMCEE', 'available', 'to', 'the', 'community.', 'Finally,', 'we', 'thank', 'the', 'anonymous', 'referee', 'and', 'statistics', 'consultant', 'for', 'useful', 'and', 'insightful', 'comments.', 'J.T.', 'acknowledges', 'financial', 'support', 'from', 'the', 'Carnegie', 'Origins', 'Postdoctoral', 'Fellowship', 'Program.', 'B.B.', 'acknowledges', 'financial', 'support', 'from', 'the', 'European', 'Commission', 'in', 'the', 'form', 'of', 'a', 'Marie', 'Curie', 'International', 'Outgoing', 'Fellowship', '(PIOF-GA-2013-629435).', 'J.F.', 'acknowledges', 'funding', 'support', 'from', 'NSF', 'award', 'AST-1312545.', 'M.M.', 'acknowledges', 'support', 'from', 'the', 'NASA', 'Astrophysics', 'Theory', 'and', 'Planetary', 'Atmospheres', 'programs.', 'Facility:', 'Magellan:Clay']\n"
          ]
        }
      ]
    },
    {
      "cell_type": "code",
      "source": [
        "from transformers import pipeline\n",
        "nlp = pipeline(\"ner\", model=model_fine_tuned, tokenizer=tokenizer)\n",
        "example = \"The authors would like to thank Adam Burgasser, Brendan Bowler, Kelle Cruz, Mike Cushing, Michael Liu, and Emily Rice for useful discussions on benchmark systems, data treatment, and various data-model comparison approaches. The authors thank Richard Freedman and Roxana Lupu for providing gas opacities and Caroline Morley for radiative transfer code comparisons and helpful discussions. We thank Jacob Lustig-Yeager and Kyle Luther for rewriting portions of the code in python and C for significant speed improvements and also Dan Foreman-Mackey for making EMCEE available to the community. Finally, we thank the anonymous referee and statistics consultant for useful and insightful comments. J.T. acknowledges financial support from the Carnegie Origins Postdoctoral Fellowship Program. B.B. acknowledges financial support from the European Commission in the form of a Marie Curie International Outgoing Fellowship (PIOF-GA-2013-629435). J.F. acknowledges funding support from NSF award AST-1312545  M.M. acknowledges support from the NASA Astrophysics Theory and Planetary Atmospheres programs. Facility:Magellan:Clay\"\n",
        "ner_results = nlp(example)\n",
        "print(ner_results)"
      ],
      "metadata": {
        "id": "ey00Uxr-nVUf",
        "outputId": "baf76c52-a4b4-4ef9-80e1-33cb3d1a2087",
        "colab": {
          "base_uri": "https://localhost:8080/"
        }
      },
      "execution_count": null,
      "outputs": [
        {
          "output_type": "stream",
          "name": "stdout",
          "text": [
            "[{'entity': 'B-Person', 'score': 0.99915886, 'index': 7, 'word': 'adam', 'start': 32, 'end': 36}, {'entity': 'I-Person', 'score': 0.9991059, 'index': 8, 'word': 'bu', 'start': 37, 'end': 39}, {'entity': 'I-Person', 'score': 0.99902916, 'index': 9, 'word': '##rga', 'start': 39, 'end': 42}, {'entity': 'I-Person', 'score': 0.9990195, 'index': 10, 'word': '##sser', 'start': 42, 'end': 46}, {'entity': 'I-Person', 'score': 0.9989586, 'index': 11, 'word': ',', 'start': 46, 'end': 47}, {'entity': 'B-Person', 'score': 0.9990772, 'index': 12, 'word': 'brendan', 'start': 48, 'end': 55}, {'entity': 'I-Person', 'score': 0.9991227, 'index': 13, 'word': 'bowler', 'start': 56, 'end': 62}, {'entity': 'I-Person', 'score': 0.99904746, 'index': 14, 'word': ',', 'start': 62, 'end': 63}, {'entity': 'B-Person', 'score': 0.99904495, 'index': 15, 'word': 'ke', 'start': 64, 'end': 66}, {'entity': 'B-Person', 'score': 0.9991366, 'index': 16, 'word': '##lle', 'start': 66, 'end': 69}, {'entity': 'I-Person', 'score': 0.9991516, 'index': 17, 'word': 'cruz', 'start': 70, 'end': 74}, {'entity': 'I-Person', 'score': 0.9991301, 'index': 18, 'word': ',', 'start': 74, 'end': 75}, {'entity': 'B-Person', 'score': 0.9990602, 'index': 19, 'word': 'mike', 'start': 76, 'end': 80}, {'entity': 'I-Person', 'score': 0.99916446, 'index': 20, 'word': 'cu', 'start': 81, 'end': 83}, {'entity': 'I-Person', 'score': 0.9991239, 'index': 21, 'word': '##shing', 'start': 83, 'end': 88}, {'entity': 'I-Person', 'score': 0.9989741, 'index': 22, 'word': ',', 'start': 88, 'end': 89}, {'entity': 'B-Person', 'score': 0.99907, 'index': 23, 'word': 'michael', 'start': 90, 'end': 97}, {'entity': 'I-Person', 'score': 0.9991381, 'index': 24, 'word': 'liu', 'start': 98, 'end': 101}, {'entity': 'I-Person', 'score': 0.9990885, 'index': 25, 'word': ',', 'start': 101, 'end': 102}, {'entity': 'B-Person', 'score': 0.9989085, 'index': 27, 'word': 'emily', 'start': 107, 'end': 112}, {'entity': 'I-Person', 'score': 0.9991321, 'index': 28, 'word': 'rice', 'start': 113, 'end': 117}, {'entity': 'B-Person', 'score': 0.9991111, 'index': 51, 'word': 'richard', 'start': 243, 'end': 250}, {'entity': 'I-Person', 'score': 0.9988972, 'index': 52, 'word': 'freed', 'start': 251, 'end': 256}, {'entity': 'I-Person', 'score': 0.99878925, 'index': 53, 'word': '##man', 'start': 256, 'end': 259}, {'entity': 'B-Person', 'score': 0.9990854, 'index': 55, 'word': 'ro', 'start': 264, 'end': 266}, {'entity': 'B-Person', 'score': 0.99904114, 'index': 56, 'word': '##xa', 'start': 266, 'end': 268}, {'entity': 'B-Person', 'score': 0.9991184, 'index': 57, 'word': '##na', 'start': 268, 'end': 270}, {'entity': 'I-Person', 'score': 0.99909437, 'index': 58, 'word': 'lu', 'start': 271, 'end': 273}, {'entity': 'I-Person', 'score': 0.99887043, 'index': 59, 'word': '##pu', 'start': 273, 'end': 275}, {'entity': 'B-Person', 'score': 0.998192, 'index': 67, 'word': 'caroline', 'start': 308, 'end': 316}, {'entity': 'I-Person', 'score': 0.99869543, 'index': 68, 'word': 'morley', 'start': 317, 'end': 323}, {'entity': 'B-Person', 'score': 0.9990101, 'index': 82, 'word': 'jacob', 'start': 398, 'end': 403}, {'entity': 'I-Person', 'score': 0.9988675, 'index': 83, 'word': 'lust', 'start': 404, 'end': 408}, {'entity': 'I-Person', 'score': 0.9988091, 'index': 84, 'word': '##ig', 'start': 408, 'end': 410}, {'entity': 'I-Person', 'score': 0.9988896, 'index': 85, 'word': '-', 'start': 410, 'end': 411}, {'entity': 'I-Person', 'score': 0.9988475, 'index': 86, 'word': 'ye', 'start': 411, 'end': 413}, {'entity': 'I-Person', 'score': 0.99878067, 'index': 87, 'word': '##ager', 'start': 413, 'end': 417}, {'entity': 'B-Person', 'score': 0.998865, 'index': 89, 'word': 'kyle', 'start': 422, 'end': 426}, {'entity': 'I-Person', 'score': 0.9988581, 'index': 90, 'word': 'luther', 'start': 427, 'end': 433}, {'entity': 'B-Software', 'score': 0.93292594, 'index': 99, 'word': 'python', 'start': 472, 'end': 478}, {'entity': 'B-Software', 'score': 0.9342126, 'index': 101, 'word': 'c', 'start': 483, 'end': 484}, {'entity': 'B-Person', 'score': 0.9987889, 'index': 108, 'word': 'dan', 'start': 529, 'end': 532}, {'entity': 'I-Person', 'score': 0.9989593, 'index': 109, 'word': 'foreman', 'start': 533, 'end': 540}, {'entity': 'I-Person', 'score': 0.9989109, 'index': 110, 'word': '-', 'start': 540, 'end': 541}, {'entity': 'I-Person', 'score': 0.9987979, 'index': 111, 'word': 'mack', 'start': 541, 'end': 545}, {'entity': 'I-Person', 'score': 0.9987023, 'index': 112, 'word': '##ey', 'start': 545, 'end': 547}, {'entity': 'B-Software', 'score': 0.9969645, 'index': 115, 'word': 'em', 'start': 559, 'end': 561}, {'entity': 'B-Software', 'score': 0.996327, 'index': 116, 'word': '##ce', 'start': 561, 'end': 563}, {'entity': 'B-Software', 'score': 0.9955615, 'index': 117, 'word': '##e', 'start': 563, 'end': 564}, {'entity': 'B-Person', 'score': 0.9991755, 'index': 140, 'word': 'j', 'start': 695, 'end': 696}, {'entity': 'B-Person', 'score': 0.99911636, 'index': 141, 'word': '.', 'start': 696, 'end': 697}, {'entity': 'B-Person', 'score': 0.99814403, 'index': 142, 'word': 't', 'start': 697, 'end': 698}, {'entity': 'B-Person', 'score': 0.99765575, 'index': 143, 'word': '.', 'start': 698, 'end': 699}, {'entity': 'B-Fellowship', 'score': 0.99615014, 'index': 149, 'word': 'carnegie', 'start': 740, 'end': 748}, {'entity': 'I-Fellowship', 'score': 0.9972645, 'index': 150, 'word': 'origins', 'start': 749, 'end': 756}, {'entity': 'I-Fellowship', 'score': 0.9975425, 'index': 151, 'word': 'postdoctoral', 'start': 757, 'end': 769}, {'entity': 'I-Fellowship', 'score': 0.9976515, 'index': 152, 'word': 'fellowship', 'start': 770, 'end': 780}, {'entity': 'I-Fellowship', 'score': 0.99737036, 'index': 153, 'word': 'program', 'start': 781, 'end': 788}, {'entity': 'I-Fellowship', 'score': 0.9974286, 'index': 154, 'word': '.', 'start': 788, 'end': 789}, {'entity': 'B-Person', 'score': 0.9992902, 'index': 155, 'word': 'b', 'start': 790, 'end': 791}, {'entity': 'B-Person', 'score': 0.9992505, 'index': 156, 'word': '.', 'start': 791, 'end': 792}, {'entity': 'B-Person', 'score': 0.91873026, 'index': 157, 'word': 'b', 'start': 792, 'end': 793}, {'entity': 'B-Person', 'score': 0.98207814, 'index': 158, 'word': '.', 'start': 793, 'end': 794}, {'entity': 'B-Organization', 'score': 0.9919058, 'index': 164, 'word': 'european', 'start': 835, 'end': 843}, {'entity': 'I-Organization', 'score': 0.9990085, 'index': 165, 'word': 'commission', 'start': 844, 'end': 854}, {'entity': 'B-Fellowship', 'score': 0.9963182, 'index': 171, 'word': 'marie', 'start': 872, 'end': 877}, {'entity': 'I-Fellowship', 'score': 0.9971872, 'index': 172, 'word': 'cu', 'start': 878, 'end': 880}, {'entity': 'I-Fellowship', 'score': 0.99737644, 'index': 173, 'word': '##rie', 'start': 880, 'end': 883}, {'entity': 'I-Fellowship', 'score': 0.99749506, 'index': 174, 'word': 'international', 'start': 884, 'end': 897}, {'entity': 'I-Fellowship', 'score': 0.99762076, 'index': 175, 'word': 'outgoing', 'start': 898, 'end': 906}, {'entity': 'I-Fellowship', 'score': 0.9977059, 'index': 176, 'word': 'fellowship', 'start': 907, 'end': 917}, {'entity': 'B-Fellowship', 'score': 0.98924667, 'index': 177, 'word': '(', 'start': 918, 'end': 919}, {'entity': 'B-Fellowship', 'score': 0.9947431, 'index': 178, 'word': 'pi', 'start': 919, 'end': 921}, {'entity': 'B-Fellowship', 'score': 0.99518186, 'index': 179, 'word': '##of', 'start': 921, 'end': 923}, {'entity': 'B-Fellowship', 'score': 0.9941796, 'index': 180, 'word': '-', 'start': 923, 'end': 924}, {'entity': 'B-Fellowship', 'score': 0.99478734, 'index': 181, 'word': 'ga', 'start': 924, 'end': 926}, {'entity': 'B-Fellowship', 'score': 0.9944154, 'index': 182, 'word': '-', 'start': 926, 'end': 927}, {'entity': 'B-Fellowship', 'score': 0.9945174, 'index': 183, 'word': '2013', 'start': 927, 'end': 931}, {'entity': 'B-Fellowship', 'score': 0.99354035, 'index': 184, 'word': '-', 'start': 931, 'end': 932}, {'entity': 'B-Fellowship', 'score': 0.99463046, 'index': 185, 'word': '62', 'start': 932, 'end': 934}, {'entity': 'B-Fellowship', 'score': 0.99522394, 'index': 186, 'word': '##9', 'start': 934, 'end': 935}, {'entity': 'B-Fellowship', 'score': 0.99433446, 'index': 187, 'word': '##43', 'start': 935, 'end': 937}, {'entity': 'B-Fellowship', 'score': 0.99298626, 'index': 188, 'word': '##5', 'start': 937, 'end': 938}, {'entity': 'B-Fellowship', 'score': 0.99327046, 'index': 189, 'word': ')', 'start': 938, 'end': 939}, {'entity': 'B-Fellowship', 'score': 0.98803025, 'index': 190, 'word': '.', 'start': 939, 'end': 940}, {'entity': 'B-Person', 'score': 0.9993026, 'index': 191, 'word': 'j', 'start': 941, 'end': 942}, {'entity': 'B-Person', 'score': 0.9992446, 'index': 192, 'word': '.', 'start': 942, 'end': 943}, {'entity': 'B-Person', 'score': 0.97468174, 'index': 193, 'word': 'f', 'start': 943, 'end': 944}, {'entity': 'B-Person', 'score': 0.9856749, 'index': 194, 'word': '.', 'start': 944, 'end': 945}, {'entity': 'B-Organization', 'score': 0.99873227, 'index': 199, 'word': 'ns', 'start': 980, 'end': 982}, {'entity': 'B-Organization', 'score': 0.9984503, 'index': 200, 'word': '##f', 'start': 982, 'end': 983}, {'entity': 'B-Grant', 'score': 0.9928865, 'index': 202, 'word': 'as', 'start': 990, 'end': 992}, {'entity': 'B-Grant', 'score': 0.9934062, 'index': 203, 'word': '##t', 'start': 992, 'end': 993}, {'entity': 'B-Grant', 'score': 0.99526995, 'index': 204, 'word': '-', 'start': 993, 'end': 994}, {'entity': 'B-Grant', 'score': 0.9945761, 'index': 205, 'word': '131', 'start': 994, 'end': 997}, {'entity': 'B-Grant', 'score': 0.9930916, 'index': 206, 'word': '##25', 'start': 997, 'end': 999}, {'entity': 'B-Grant', 'score': 0.9936627, 'index': 207, 'word': '##45', 'start': 999, 'end': 1001}, {'entity': 'B-Person', 'score': 0.9991874, 'index': 208, 'word': 'm', 'start': 1003, 'end': 1004}, {'entity': 'B-Person', 'score': 0.997678, 'index': 209, 'word': '.', 'start': 1004, 'end': 1005}, {'entity': 'B-Person', 'score': 0.88692623, 'index': 210, 'word': 'm', 'start': 1005, 'end': 1006}, {'entity': 'B-Person', 'score': 0.9488406, 'index': 211, 'word': '.', 'start': 1006, 'end': 1007}, {'entity': 'B-Organization', 'score': 0.9745286, 'index': 216, 'word': 'nasa', 'start': 1038, 'end': 1042}, {'entity': 'I-Grant', 'score': 0.6208018, 'index': 217, 'word': 'astro', 'start': 1043, 'end': 1048}, {'entity': 'B-Grant', 'score': 0.7872051, 'index': 218, 'word': '##physics', 'start': 1048, 'end': 1055}, {'entity': 'I-Grant', 'score': 0.97018045, 'index': 219, 'word': 'theory', 'start': 1056, 'end': 1062}, {'entity': 'I-Grant', 'score': 0.98364335, 'index': 220, 'word': 'and', 'start': 1063, 'end': 1066}, {'entity': 'I-Grant', 'score': 0.9929004, 'index': 221, 'word': 'planetary', 'start': 1067, 'end': 1076}, {'entity': 'I-Grant', 'score': 0.9927866, 'index': 222, 'word': 'atmosphere', 'start': 1077, 'end': 1087}, {'entity': 'I-Grant', 'score': 0.99241567, 'index': 223, 'word': '##s', 'start': 1087, 'end': 1088}, {'entity': 'B-Telescope', 'score': 0.9962901, 'index': 228, 'word': 'mage', 'start': 1108, 'end': 1112}, {'entity': 'B-Telescope', 'score': 0.9951794, 'index': 229, 'word': '##llan', 'start': 1112, 'end': 1116}, {'entity': 'B-Telescope', 'score': 0.97816694, 'index': 230, 'word': ':', 'start': 1116, 'end': 1117}, {'entity': 'B-Telescope', 'score': 0.97466147, 'index': 231, 'word': 'clay', 'start': 1117, 'end': 1121}]\n"
          ]
        }
      ]
    },
    {
      "cell_type": "code",
      "source": [],
      "metadata": {
        "id": "VNB6ifA0qYSm"
      },
      "execution_count": null,
      "outputs": []
    }
  ],
  "metadata": {
    "colab": {
      "provenance": [],
      "gpuType": "T4",
      "include_colab_link": true
    },
    "kernelspec": {
      "display_name": "Python 3",
      "name": "python3"
    },
    "language_info": {
      "name": "python"
    },
    "widgets": {
      "application/vnd.jupyter.widget-state+json": {
        "74fd56190e6b4a64914c8776bfdb9eb5": {
          "model_module": "@jupyter-widgets/controls",
          "model_name": "HBoxModel",
          "model_module_version": "1.5.0",
          "state": {
            "_dom_classes": [],
            "_model_module": "@jupyter-widgets/controls",
            "_model_module_version": "1.5.0",
            "_model_name": "HBoxModel",
            "_view_count": null,
            "_view_module": "@jupyter-widgets/controls",
            "_view_module_version": "1.5.0",
            "_view_name": "HBoxView",
            "box_style": "",
            "children": [
              "IPY_MODEL_a708c205f49a42b18948b2dc4073aba5",
              "IPY_MODEL_efa263c994b54ff9b4223609cc8e8edc",
              "IPY_MODEL_3683fc49004040138ba551012c7c5034"
            ],
            "layout": "IPY_MODEL_650d89aacff84847a8870f19e39969f3"
          }
        },
        "a708c205f49a42b18948b2dc4073aba5": {
          "model_module": "@jupyter-widgets/controls",
          "model_name": "HTMLModel",
          "model_module_version": "1.5.0",
          "state": {
            "_dom_classes": [],
            "_model_module": "@jupyter-widgets/controls",
            "_model_module_version": "1.5.0",
            "_model_name": "HTMLModel",
            "_view_count": null,
            "_view_module": "@jupyter-widgets/controls",
            "_view_module_version": "1.5.0",
            "_view_name": "HTMLView",
            "description": "",
            "description_tooltip": null,
            "layout": "IPY_MODEL_b84d8cf655c2407bb1b2e2ce4339189d",
            "placeholder": "​",
            "style": "IPY_MODEL_87d32de78e484387b983d791dcccd259",
            "value": "Map: 100%"
          }
        },
        "efa263c994b54ff9b4223609cc8e8edc": {
          "model_module": "@jupyter-widgets/controls",
          "model_name": "FloatProgressModel",
          "model_module_version": "1.5.0",
          "state": {
            "_dom_classes": [],
            "_model_module": "@jupyter-widgets/controls",
            "_model_module_version": "1.5.0",
            "_model_name": "FloatProgressModel",
            "_view_count": null,
            "_view_module": "@jupyter-widgets/controls",
            "_view_module_version": "1.5.0",
            "_view_name": "ProgressView",
            "bar_style": "success",
            "description": "",
            "description_tooltip": null,
            "layout": "IPY_MODEL_14bbb5b18806404a8a21dea159833c1d",
            "max": 1753,
            "min": 0,
            "orientation": "horizontal",
            "style": "IPY_MODEL_e1e766fed844499b9b7cecc96f617ae2",
            "value": 1753
          }
        },
        "3683fc49004040138ba551012c7c5034": {
          "model_module": "@jupyter-widgets/controls",
          "model_name": "HTMLModel",
          "model_module_version": "1.5.0",
          "state": {
            "_dom_classes": [],
            "_model_module": "@jupyter-widgets/controls",
            "_model_module_version": "1.5.0",
            "_model_name": "HTMLModel",
            "_view_count": null,
            "_view_module": "@jupyter-widgets/controls",
            "_view_module_version": "1.5.0",
            "_view_name": "HTMLView",
            "description": "",
            "description_tooltip": null,
            "layout": "IPY_MODEL_f78167bad78744268528b498076ae385",
            "placeholder": "​",
            "style": "IPY_MODEL_d105f33f98ad462c943f0107b47b10b6",
            "value": " 1753/1753 [00:12&lt;00:00, 141.66 examples/s]"
          }
        },
        "650d89aacff84847a8870f19e39969f3": {
          "model_module": "@jupyter-widgets/base",
          "model_name": "LayoutModel",
          "model_module_version": "1.2.0",
          "state": {
            "_model_module": "@jupyter-widgets/base",
            "_model_module_version": "1.2.0",
            "_model_name": "LayoutModel",
            "_view_count": null,
            "_view_module": "@jupyter-widgets/base",
            "_view_module_version": "1.2.0",
            "_view_name": "LayoutView",
            "align_content": null,
            "align_items": null,
            "align_self": null,
            "border": null,
            "bottom": null,
            "display": null,
            "flex": null,
            "flex_flow": null,
            "grid_area": null,
            "grid_auto_columns": null,
            "grid_auto_flow": null,
            "grid_auto_rows": null,
            "grid_column": null,
            "grid_gap": null,
            "grid_row": null,
            "grid_template_areas": null,
            "grid_template_columns": null,
            "grid_template_rows": null,
            "height": null,
            "justify_content": null,
            "justify_items": null,
            "left": null,
            "margin": null,
            "max_height": null,
            "max_width": null,
            "min_height": null,
            "min_width": null,
            "object_fit": null,
            "object_position": null,
            "order": null,
            "overflow": null,
            "overflow_x": null,
            "overflow_y": null,
            "padding": null,
            "right": null,
            "top": null,
            "visibility": null,
            "width": null
          }
        },
        "b84d8cf655c2407bb1b2e2ce4339189d": {
          "model_module": "@jupyter-widgets/base",
          "model_name": "LayoutModel",
          "model_module_version": "1.2.0",
          "state": {
            "_model_module": "@jupyter-widgets/base",
            "_model_module_version": "1.2.0",
            "_model_name": "LayoutModel",
            "_view_count": null,
            "_view_module": "@jupyter-widgets/base",
            "_view_module_version": "1.2.0",
            "_view_name": "LayoutView",
            "align_content": null,
            "align_items": null,
            "align_self": null,
            "border": null,
            "bottom": null,
            "display": null,
            "flex": null,
            "flex_flow": null,
            "grid_area": null,
            "grid_auto_columns": null,
            "grid_auto_flow": null,
            "grid_auto_rows": null,
            "grid_column": null,
            "grid_gap": null,
            "grid_row": null,
            "grid_template_areas": null,
            "grid_template_columns": null,
            "grid_template_rows": null,
            "height": null,
            "justify_content": null,
            "justify_items": null,
            "left": null,
            "margin": null,
            "max_height": null,
            "max_width": null,
            "min_height": null,
            "min_width": null,
            "object_fit": null,
            "object_position": null,
            "order": null,
            "overflow": null,
            "overflow_x": null,
            "overflow_y": null,
            "padding": null,
            "right": null,
            "top": null,
            "visibility": null,
            "width": null
          }
        },
        "87d32de78e484387b983d791dcccd259": {
          "model_module": "@jupyter-widgets/controls",
          "model_name": "DescriptionStyleModel",
          "model_module_version": "1.5.0",
          "state": {
            "_model_module": "@jupyter-widgets/controls",
            "_model_module_version": "1.5.0",
            "_model_name": "DescriptionStyleModel",
            "_view_count": null,
            "_view_module": "@jupyter-widgets/base",
            "_view_module_version": "1.2.0",
            "_view_name": "StyleView",
            "description_width": ""
          }
        },
        "14bbb5b18806404a8a21dea159833c1d": {
          "model_module": "@jupyter-widgets/base",
          "model_name": "LayoutModel",
          "model_module_version": "1.2.0",
          "state": {
            "_model_module": "@jupyter-widgets/base",
            "_model_module_version": "1.2.0",
            "_model_name": "LayoutModel",
            "_view_count": null,
            "_view_module": "@jupyter-widgets/base",
            "_view_module_version": "1.2.0",
            "_view_name": "LayoutView",
            "align_content": null,
            "align_items": null,
            "align_self": null,
            "border": null,
            "bottom": null,
            "display": null,
            "flex": null,
            "flex_flow": null,
            "grid_area": null,
            "grid_auto_columns": null,
            "grid_auto_flow": null,
            "grid_auto_rows": null,
            "grid_column": null,
            "grid_gap": null,
            "grid_row": null,
            "grid_template_areas": null,
            "grid_template_columns": null,
            "grid_template_rows": null,
            "height": null,
            "justify_content": null,
            "justify_items": null,
            "left": null,
            "margin": null,
            "max_height": null,
            "max_width": null,
            "min_height": null,
            "min_width": null,
            "object_fit": null,
            "object_position": null,
            "order": null,
            "overflow": null,
            "overflow_x": null,
            "overflow_y": null,
            "padding": null,
            "right": null,
            "top": null,
            "visibility": null,
            "width": null
          }
        },
        "e1e766fed844499b9b7cecc96f617ae2": {
          "model_module": "@jupyter-widgets/controls",
          "model_name": "ProgressStyleModel",
          "model_module_version": "1.5.0",
          "state": {
            "_model_module": "@jupyter-widgets/controls",
            "_model_module_version": "1.5.0",
            "_model_name": "ProgressStyleModel",
            "_view_count": null,
            "_view_module": "@jupyter-widgets/base",
            "_view_module_version": "1.2.0",
            "_view_name": "StyleView",
            "bar_color": null,
            "description_width": ""
          }
        },
        "f78167bad78744268528b498076ae385": {
          "model_module": "@jupyter-widgets/base",
          "model_name": "LayoutModel",
          "model_module_version": "1.2.0",
          "state": {
            "_model_module": "@jupyter-widgets/base",
            "_model_module_version": "1.2.0",
            "_model_name": "LayoutModel",
            "_view_count": null,
            "_view_module": "@jupyter-widgets/base",
            "_view_module_version": "1.2.0",
            "_view_name": "LayoutView",
            "align_content": null,
            "align_items": null,
            "align_self": null,
            "border": null,
            "bottom": null,
            "display": null,
            "flex": null,
            "flex_flow": null,
            "grid_area": null,
            "grid_auto_columns": null,
            "grid_auto_flow": null,
            "grid_auto_rows": null,
            "grid_column": null,
            "grid_gap": null,
            "grid_row": null,
            "grid_template_areas": null,
            "grid_template_columns": null,
            "grid_template_rows": null,
            "height": null,
            "justify_content": null,
            "justify_items": null,
            "left": null,
            "margin": null,
            "max_height": null,
            "max_width": null,
            "min_height": null,
            "min_width": null,
            "object_fit": null,
            "object_position": null,
            "order": null,
            "overflow": null,
            "overflow_x": null,
            "overflow_y": null,
            "padding": null,
            "right": null,
            "top": null,
            "visibility": null,
            "width": null
          }
        },
        "d105f33f98ad462c943f0107b47b10b6": {
          "model_module": "@jupyter-widgets/controls",
          "model_name": "DescriptionStyleModel",
          "model_module_version": "1.5.0",
          "state": {
            "_model_module": "@jupyter-widgets/controls",
            "_model_module_version": "1.5.0",
            "_model_name": "DescriptionStyleModel",
            "_view_count": null,
            "_view_module": "@jupyter-widgets/base",
            "_view_module_version": "1.2.0",
            "_view_name": "StyleView",
            "description_width": ""
          }
        },
        "ef38d11fd1ff48fb87baed68931d722e": {
          "model_module": "@jupyter-widgets/controls",
          "model_name": "HBoxModel",
          "model_module_version": "1.5.0",
          "state": {
            "_dom_classes": [],
            "_model_module": "@jupyter-widgets/controls",
            "_model_module_version": "1.5.0",
            "_model_name": "HBoxModel",
            "_view_count": null,
            "_view_module": "@jupyter-widgets/controls",
            "_view_module_version": "1.5.0",
            "_view_name": "HBoxView",
            "box_style": "",
            "children": [
              "IPY_MODEL_010cece4964643bbbfc18d2213e71c9c",
              "IPY_MODEL_fb784a67a0a14d07b841796a72ba97f0",
              "IPY_MODEL_cd36285b9f394d60986dc58015d80a68"
            ],
            "layout": "IPY_MODEL_d116b52d396240d29a28cde80f813cb1"
          }
        },
        "010cece4964643bbbfc18d2213e71c9c": {
          "model_module": "@jupyter-widgets/controls",
          "model_name": "HTMLModel",
          "model_module_version": "1.5.0",
          "state": {
            "_dom_classes": [],
            "_model_module": "@jupyter-widgets/controls",
            "_model_module_version": "1.5.0",
            "_model_name": "HTMLModel",
            "_view_count": null,
            "_view_module": "@jupyter-widgets/controls",
            "_view_module_version": "1.5.0",
            "_view_name": "HTMLView",
            "description": "",
            "description_tooltip": null,
            "layout": "IPY_MODEL_ef0382f3cc05458b8aa204784ceee336",
            "placeholder": "​",
            "style": "IPY_MODEL_dd8026cef4d245baaaee459e45a2b68b",
            "value": "Map: 100%"
          }
        },
        "fb784a67a0a14d07b841796a72ba97f0": {
          "model_module": "@jupyter-widgets/controls",
          "model_name": "FloatProgressModel",
          "model_module_version": "1.5.0",
          "state": {
            "_dom_classes": [],
            "_model_module": "@jupyter-widgets/controls",
            "_model_module_version": "1.5.0",
            "_model_name": "FloatProgressModel",
            "_view_count": null,
            "_view_module": "@jupyter-widgets/controls",
            "_view_module_version": "1.5.0",
            "_view_name": "ProgressView",
            "bar_style": "success",
            "description": "",
            "description_tooltip": null,
            "layout": "IPY_MODEL_b463c437ccce46c78ae0dadeaf8d251c",
            "max": 1366,
            "min": 0,
            "orientation": "horizontal",
            "style": "IPY_MODEL_6422bd50aac54bcc8ee187c546720145",
            "value": 1366
          }
        },
        "cd36285b9f394d60986dc58015d80a68": {
          "model_module": "@jupyter-widgets/controls",
          "model_name": "HTMLModel",
          "model_module_version": "1.5.0",
          "state": {
            "_dom_classes": [],
            "_model_module": "@jupyter-widgets/controls",
            "_model_module_version": "1.5.0",
            "_model_name": "HTMLModel",
            "_view_count": null,
            "_view_module": "@jupyter-widgets/controls",
            "_view_module_version": "1.5.0",
            "_view_name": "HTMLView",
            "description": "",
            "description_tooltip": null,
            "layout": "IPY_MODEL_5c3335e661994db4b38db6a3660cb924",
            "placeholder": "​",
            "style": "IPY_MODEL_cea31acc0a6846818789d357867d3167",
            "value": " 1366/1366 [00:08&lt;00:00, 161.13 examples/s]"
          }
        },
        "d116b52d396240d29a28cde80f813cb1": {
          "model_module": "@jupyter-widgets/base",
          "model_name": "LayoutModel",
          "model_module_version": "1.2.0",
          "state": {
            "_model_module": "@jupyter-widgets/base",
            "_model_module_version": "1.2.0",
            "_model_name": "LayoutModel",
            "_view_count": null,
            "_view_module": "@jupyter-widgets/base",
            "_view_module_version": "1.2.0",
            "_view_name": "LayoutView",
            "align_content": null,
            "align_items": null,
            "align_self": null,
            "border": null,
            "bottom": null,
            "display": null,
            "flex": null,
            "flex_flow": null,
            "grid_area": null,
            "grid_auto_columns": null,
            "grid_auto_flow": null,
            "grid_auto_rows": null,
            "grid_column": null,
            "grid_gap": null,
            "grid_row": null,
            "grid_template_areas": null,
            "grid_template_columns": null,
            "grid_template_rows": null,
            "height": null,
            "justify_content": null,
            "justify_items": null,
            "left": null,
            "margin": null,
            "max_height": null,
            "max_width": null,
            "min_height": null,
            "min_width": null,
            "object_fit": null,
            "object_position": null,
            "order": null,
            "overflow": null,
            "overflow_x": null,
            "overflow_y": null,
            "padding": null,
            "right": null,
            "top": null,
            "visibility": null,
            "width": null
          }
        },
        "ef0382f3cc05458b8aa204784ceee336": {
          "model_module": "@jupyter-widgets/base",
          "model_name": "LayoutModel",
          "model_module_version": "1.2.0",
          "state": {
            "_model_module": "@jupyter-widgets/base",
            "_model_module_version": "1.2.0",
            "_model_name": "LayoutModel",
            "_view_count": null,
            "_view_module": "@jupyter-widgets/base",
            "_view_module_version": "1.2.0",
            "_view_name": "LayoutView",
            "align_content": null,
            "align_items": null,
            "align_self": null,
            "border": null,
            "bottom": null,
            "display": null,
            "flex": null,
            "flex_flow": null,
            "grid_area": null,
            "grid_auto_columns": null,
            "grid_auto_flow": null,
            "grid_auto_rows": null,
            "grid_column": null,
            "grid_gap": null,
            "grid_row": null,
            "grid_template_areas": null,
            "grid_template_columns": null,
            "grid_template_rows": null,
            "height": null,
            "justify_content": null,
            "justify_items": null,
            "left": null,
            "margin": null,
            "max_height": null,
            "max_width": null,
            "min_height": null,
            "min_width": null,
            "object_fit": null,
            "object_position": null,
            "order": null,
            "overflow": null,
            "overflow_x": null,
            "overflow_y": null,
            "padding": null,
            "right": null,
            "top": null,
            "visibility": null,
            "width": null
          }
        },
        "dd8026cef4d245baaaee459e45a2b68b": {
          "model_module": "@jupyter-widgets/controls",
          "model_name": "DescriptionStyleModel",
          "model_module_version": "1.5.0",
          "state": {
            "_model_module": "@jupyter-widgets/controls",
            "_model_module_version": "1.5.0",
            "_model_name": "DescriptionStyleModel",
            "_view_count": null,
            "_view_module": "@jupyter-widgets/base",
            "_view_module_version": "1.2.0",
            "_view_name": "StyleView",
            "description_width": ""
          }
        },
        "b463c437ccce46c78ae0dadeaf8d251c": {
          "model_module": "@jupyter-widgets/base",
          "model_name": "LayoutModel",
          "model_module_version": "1.2.0",
          "state": {
            "_model_module": "@jupyter-widgets/base",
            "_model_module_version": "1.2.0",
            "_model_name": "LayoutModel",
            "_view_count": null,
            "_view_module": "@jupyter-widgets/base",
            "_view_module_version": "1.2.0",
            "_view_name": "LayoutView",
            "align_content": null,
            "align_items": null,
            "align_self": null,
            "border": null,
            "bottom": null,
            "display": null,
            "flex": null,
            "flex_flow": null,
            "grid_area": null,
            "grid_auto_columns": null,
            "grid_auto_flow": null,
            "grid_auto_rows": null,
            "grid_column": null,
            "grid_gap": null,
            "grid_row": null,
            "grid_template_areas": null,
            "grid_template_columns": null,
            "grid_template_rows": null,
            "height": null,
            "justify_content": null,
            "justify_items": null,
            "left": null,
            "margin": null,
            "max_height": null,
            "max_width": null,
            "min_height": null,
            "min_width": null,
            "object_fit": null,
            "object_position": null,
            "order": null,
            "overflow": null,
            "overflow_x": null,
            "overflow_y": null,
            "padding": null,
            "right": null,
            "top": null,
            "visibility": null,
            "width": null
          }
        },
        "6422bd50aac54bcc8ee187c546720145": {
          "model_module": "@jupyter-widgets/controls",
          "model_name": "ProgressStyleModel",
          "model_module_version": "1.5.0",
          "state": {
            "_model_module": "@jupyter-widgets/controls",
            "_model_module_version": "1.5.0",
            "_model_name": "ProgressStyleModel",
            "_view_count": null,
            "_view_module": "@jupyter-widgets/base",
            "_view_module_version": "1.2.0",
            "_view_name": "StyleView",
            "bar_color": null,
            "description_width": ""
          }
        },
        "5c3335e661994db4b38db6a3660cb924": {
          "model_module": "@jupyter-widgets/base",
          "model_name": "LayoutModel",
          "model_module_version": "1.2.0",
          "state": {
            "_model_module": "@jupyter-widgets/base",
            "_model_module_version": "1.2.0",
            "_model_name": "LayoutModel",
            "_view_count": null,
            "_view_module": "@jupyter-widgets/base",
            "_view_module_version": "1.2.0",
            "_view_name": "LayoutView",
            "align_content": null,
            "align_items": null,
            "align_self": null,
            "border": null,
            "bottom": null,
            "display": null,
            "flex": null,
            "flex_flow": null,
            "grid_area": null,
            "grid_auto_columns": null,
            "grid_auto_flow": null,
            "grid_auto_rows": null,
            "grid_column": null,
            "grid_gap": null,
            "grid_row": null,
            "grid_template_areas": null,
            "grid_template_columns": null,
            "grid_template_rows": null,
            "height": null,
            "justify_content": null,
            "justify_items": null,
            "left": null,
            "margin": null,
            "max_height": null,
            "max_width": null,
            "min_height": null,
            "min_width": null,
            "object_fit": null,
            "object_position": null,
            "order": null,
            "overflow": null,
            "overflow_x": null,
            "overflow_y": null,
            "padding": null,
            "right": null,
            "top": null,
            "visibility": null,
            "width": null
          }
        },
        "cea31acc0a6846818789d357867d3167": {
          "model_module": "@jupyter-widgets/controls",
          "model_name": "DescriptionStyleModel",
          "model_module_version": "1.5.0",
          "state": {
            "_model_module": "@jupyter-widgets/controls",
            "_model_module_version": "1.5.0",
            "_model_name": "DescriptionStyleModel",
            "_view_count": null,
            "_view_module": "@jupyter-widgets/base",
            "_view_module_version": "1.2.0",
            "_view_name": "StyleView",
            "description_width": ""
          }
        },
        "8d883b2f6c8d40958b948b59f7e36886": {
          "model_module": "@jupyter-widgets/controls",
          "model_name": "HBoxModel",
          "model_module_version": "1.5.0",
          "state": {
            "_dom_classes": [],
            "_model_module": "@jupyter-widgets/controls",
            "_model_module_version": "1.5.0",
            "_model_name": "HBoxModel",
            "_view_count": null,
            "_view_module": "@jupyter-widgets/controls",
            "_view_module_version": "1.5.0",
            "_view_name": "HBoxView",
            "box_style": "",
            "children": [
              "IPY_MODEL_4c2b04fb1afe4d878b476941992b9742",
              "IPY_MODEL_4cd588e2584e4f619456f20ac30fe5f0",
              "IPY_MODEL_23ac004026e3432d88a9a93cbce3ed6b"
            ],
            "layout": "IPY_MODEL_beea5cd1e23e4585905c59afbb47e0c0"
          }
        },
        "4c2b04fb1afe4d878b476941992b9742": {
          "model_module": "@jupyter-widgets/controls",
          "model_name": "HTMLModel",
          "model_module_version": "1.5.0",
          "state": {
            "_dom_classes": [],
            "_model_module": "@jupyter-widgets/controls",
            "_model_module_version": "1.5.0",
            "_model_name": "HTMLModel",
            "_view_count": null,
            "_view_module": "@jupyter-widgets/controls",
            "_view_module_version": "1.5.0",
            "_view_name": "HTMLView",
            "description": "",
            "description_tooltip": null,
            "layout": "IPY_MODEL_dcd44202900b4c9986b2ed0774a39f66",
            "placeholder": "​",
            "style": "IPY_MODEL_6987e4934fbd498f9666dd989c70b9aa",
            "value": "Map: 100%"
          }
        },
        "4cd588e2584e4f619456f20ac30fe5f0": {
          "model_module": "@jupyter-widgets/controls",
          "model_name": "FloatProgressModel",
          "model_module_version": "1.5.0",
          "state": {
            "_dom_classes": [],
            "_model_module": "@jupyter-widgets/controls",
            "_model_module_version": "1.5.0",
            "_model_name": "FloatProgressModel",
            "_view_count": null,
            "_view_module": "@jupyter-widgets/controls",
            "_view_module_version": "1.5.0",
            "_view_name": "ProgressView",
            "bar_style": "success",
            "description": "",
            "description_tooltip": null,
            "layout": "IPY_MODEL_0f19bddf8cfd4606afea42e7b33de741",
            "max": 2505,
            "min": 0,
            "orientation": "horizontal",
            "style": "IPY_MODEL_a587f2d93f49489999ccc3c6c8fbbe98",
            "value": 2505
          }
        },
        "23ac004026e3432d88a9a93cbce3ed6b": {
          "model_module": "@jupyter-widgets/controls",
          "model_name": "HTMLModel",
          "model_module_version": "1.5.0",
          "state": {
            "_dom_classes": [],
            "_model_module": "@jupyter-widgets/controls",
            "_model_module_version": "1.5.0",
            "_model_name": "HTMLModel",
            "_view_count": null,
            "_view_module": "@jupyter-widgets/controls",
            "_view_module_version": "1.5.0",
            "_view_name": "HTMLView",
            "description": "",
            "description_tooltip": null,
            "layout": "IPY_MODEL_5fee7b9c32434816afa0b362fe037751",
            "placeholder": "​",
            "style": "IPY_MODEL_df76636bbed94dae9b4d1165c0a23a36",
            "value": " 2505/2505 [00:12&lt;00:00, 194.69 examples/s]"
          }
        },
        "beea5cd1e23e4585905c59afbb47e0c0": {
          "model_module": "@jupyter-widgets/base",
          "model_name": "LayoutModel",
          "model_module_version": "1.2.0",
          "state": {
            "_model_module": "@jupyter-widgets/base",
            "_model_module_version": "1.2.0",
            "_model_name": "LayoutModel",
            "_view_count": null,
            "_view_module": "@jupyter-widgets/base",
            "_view_module_version": "1.2.0",
            "_view_name": "LayoutView",
            "align_content": null,
            "align_items": null,
            "align_self": null,
            "border": null,
            "bottom": null,
            "display": null,
            "flex": null,
            "flex_flow": null,
            "grid_area": null,
            "grid_auto_columns": null,
            "grid_auto_flow": null,
            "grid_auto_rows": null,
            "grid_column": null,
            "grid_gap": null,
            "grid_row": null,
            "grid_template_areas": null,
            "grid_template_columns": null,
            "grid_template_rows": null,
            "height": null,
            "justify_content": null,
            "justify_items": null,
            "left": null,
            "margin": null,
            "max_height": null,
            "max_width": null,
            "min_height": null,
            "min_width": null,
            "object_fit": null,
            "object_position": null,
            "order": null,
            "overflow": null,
            "overflow_x": null,
            "overflow_y": null,
            "padding": null,
            "right": null,
            "top": null,
            "visibility": null,
            "width": null
          }
        },
        "dcd44202900b4c9986b2ed0774a39f66": {
          "model_module": "@jupyter-widgets/base",
          "model_name": "LayoutModel",
          "model_module_version": "1.2.0",
          "state": {
            "_model_module": "@jupyter-widgets/base",
            "_model_module_version": "1.2.0",
            "_model_name": "LayoutModel",
            "_view_count": null,
            "_view_module": "@jupyter-widgets/base",
            "_view_module_version": "1.2.0",
            "_view_name": "LayoutView",
            "align_content": null,
            "align_items": null,
            "align_self": null,
            "border": null,
            "bottom": null,
            "display": null,
            "flex": null,
            "flex_flow": null,
            "grid_area": null,
            "grid_auto_columns": null,
            "grid_auto_flow": null,
            "grid_auto_rows": null,
            "grid_column": null,
            "grid_gap": null,
            "grid_row": null,
            "grid_template_areas": null,
            "grid_template_columns": null,
            "grid_template_rows": null,
            "height": null,
            "justify_content": null,
            "justify_items": null,
            "left": null,
            "margin": null,
            "max_height": null,
            "max_width": null,
            "min_height": null,
            "min_width": null,
            "object_fit": null,
            "object_position": null,
            "order": null,
            "overflow": null,
            "overflow_x": null,
            "overflow_y": null,
            "padding": null,
            "right": null,
            "top": null,
            "visibility": null,
            "width": null
          }
        },
        "6987e4934fbd498f9666dd989c70b9aa": {
          "model_module": "@jupyter-widgets/controls",
          "model_name": "DescriptionStyleModel",
          "model_module_version": "1.5.0",
          "state": {
            "_model_module": "@jupyter-widgets/controls",
            "_model_module_version": "1.5.0",
            "_model_name": "DescriptionStyleModel",
            "_view_count": null,
            "_view_module": "@jupyter-widgets/base",
            "_view_module_version": "1.2.0",
            "_view_name": "StyleView",
            "description_width": ""
          }
        },
        "0f19bddf8cfd4606afea42e7b33de741": {
          "model_module": "@jupyter-widgets/base",
          "model_name": "LayoutModel",
          "model_module_version": "1.2.0",
          "state": {
            "_model_module": "@jupyter-widgets/base",
            "_model_module_version": "1.2.0",
            "_model_name": "LayoutModel",
            "_view_count": null,
            "_view_module": "@jupyter-widgets/base",
            "_view_module_version": "1.2.0",
            "_view_name": "LayoutView",
            "align_content": null,
            "align_items": null,
            "align_self": null,
            "border": null,
            "bottom": null,
            "display": null,
            "flex": null,
            "flex_flow": null,
            "grid_area": null,
            "grid_auto_columns": null,
            "grid_auto_flow": null,
            "grid_auto_rows": null,
            "grid_column": null,
            "grid_gap": null,
            "grid_row": null,
            "grid_template_areas": null,
            "grid_template_columns": null,
            "grid_template_rows": null,
            "height": null,
            "justify_content": null,
            "justify_items": null,
            "left": null,
            "margin": null,
            "max_height": null,
            "max_width": null,
            "min_height": null,
            "min_width": null,
            "object_fit": null,
            "object_position": null,
            "order": null,
            "overflow": null,
            "overflow_x": null,
            "overflow_y": null,
            "padding": null,
            "right": null,
            "top": null,
            "visibility": null,
            "width": null
          }
        },
        "a587f2d93f49489999ccc3c6c8fbbe98": {
          "model_module": "@jupyter-widgets/controls",
          "model_name": "ProgressStyleModel",
          "model_module_version": "1.5.0",
          "state": {
            "_model_module": "@jupyter-widgets/controls",
            "_model_module_version": "1.5.0",
            "_model_name": "ProgressStyleModel",
            "_view_count": null,
            "_view_module": "@jupyter-widgets/base",
            "_view_module_version": "1.2.0",
            "_view_name": "StyleView",
            "bar_color": null,
            "description_width": ""
          }
        },
        "5fee7b9c32434816afa0b362fe037751": {
          "model_module": "@jupyter-widgets/base",
          "model_name": "LayoutModel",
          "model_module_version": "1.2.0",
          "state": {
            "_model_module": "@jupyter-widgets/base",
            "_model_module_version": "1.2.0",
            "_model_name": "LayoutModel",
            "_view_count": null,
            "_view_module": "@jupyter-widgets/base",
            "_view_module_version": "1.2.0",
            "_view_name": "LayoutView",
            "align_content": null,
            "align_items": null,
            "align_self": null,
            "border": null,
            "bottom": null,
            "display": null,
            "flex": null,
            "flex_flow": null,
            "grid_area": null,
            "grid_auto_columns": null,
            "grid_auto_flow": null,
            "grid_auto_rows": null,
            "grid_column": null,
            "grid_gap": null,
            "grid_row": null,
            "grid_template_areas": null,
            "grid_template_columns": null,
            "grid_template_rows": null,
            "height": null,
            "justify_content": null,
            "justify_items": null,
            "left": null,
            "margin": null,
            "max_height": null,
            "max_width": null,
            "min_height": null,
            "min_width": null,
            "object_fit": null,
            "object_position": null,
            "order": null,
            "overflow": null,
            "overflow_x": null,
            "overflow_y": null,
            "padding": null,
            "right": null,
            "top": null,
            "visibility": null,
            "width": null
          }
        },
        "df76636bbed94dae9b4d1165c0a23a36": {
          "model_module": "@jupyter-widgets/controls",
          "model_name": "DescriptionStyleModel",
          "model_module_version": "1.5.0",
          "state": {
            "_model_module": "@jupyter-widgets/controls",
            "_model_module_version": "1.5.0",
            "_model_name": "DescriptionStyleModel",
            "_view_count": null,
            "_view_module": "@jupyter-widgets/base",
            "_view_module_version": "1.2.0",
            "_view_name": "StyleView",
            "description_width": ""
          }
        }
      }
    },
    "accelerator": "GPU"
  },
  "nbformat": 4,
  "nbformat_minor": 0
}